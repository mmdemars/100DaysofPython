{
 "cells": [
  {
   "cell_type": "code",
   "execution_count": 1,
   "id": "0f495661",
   "metadata": {},
   "outputs": [
    {
     "name": "stdout",
     "output_type": "stream",
     "text": [
      "H\n"
     ]
    }
   ],
   "source": [
    "# Subscripting\n",
    "print(\"Hello\"[0])\n",
    "# will give you \"H\" - the brackets denotes the position within the string"
   ]
  },
  {
   "cell_type": "code",
   "execution_count": 2,
   "id": "e717e18c",
   "metadata": {},
   "outputs": [
    {
     "name": "stdout",
     "output_type": "stream",
     "text": [
      "123345\n"
     ]
    }
   ],
   "source": [
    "#concatenating stings\n",
    "print(\"123\" + \"345\")\n",
    "# will print \"123345\" - remove the parentheses to get actual math"
   ]
  },
  {
   "cell_type": "code",
   "execution_count": 3,
   "id": "26ff50ef",
   "metadata": {},
   "outputs": [
    {
     "name": "stdout",
     "output_type": "stream",
     "text": [
      "123345567\n"
     ]
    }
   ],
   "source": [
    "print(123_345_567)\n",
    "# python will read that as 123345567 - converts the underscores to nothings - use instead of commas\n"
   ]
  },
  {
   "cell_type": "code",
   "execution_count": 7,
   "id": "c67a0d9c",
   "metadata": {},
   "outputs": [
    {
     "name": "stdout",
     "output_type": "stream",
     "text": [
      "What is your name?Francine\n",
      "Your name has 8 characters.\n"
     ]
    }
   ],
   "source": [
    "# num_char is an integer, i.e. the length of the name\n",
    "num_char = len(input(\"What is your name?\"))\n",
    "               \n",
    "# cast the variable as a string and put it in a new variable    \n",
    "new_num_char = str(num_char)\n",
    "               \n",
    "print(\"Your name has \" + new_num_char + \" characters.\")"
   ]
  },
  {
   "cell_type": "code",
   "execution_count": 11,
   "id": "c06b51e4",
   "metadata": {},
   "outputs": [
    {
     "name": "stdout",
     "output_type": "stream",
     "text": [
      "Type a two digit number: 45\n",
      "9\n"
     ]
    }
   ],
   "source": [
    "# Write a program that adds the digits in a 2 digit number. \n",
    "# e.g. if the input was 35, then the output should be 3 + 5 = 8\n",
    "\n",
    "two_digit_number = input(\"Type a two digit number: \")\n",
    "\n",
    "digit1 = two_digit_number[0]\n",
    "digit2 = two_digit_number[1]\n",
    "\n",
    "print(int(digit1) + int(digit2))"
   ]
  },
  {
   "cell_type": "code",
   "execution_count": 26,
   "id": "6a8066e2",
   "metadata": {},
   "outputs": [
    {
     "name": "stdout",
     "output_type": "stream",
     "text": [
      "So 2 to the power of 2 is 4, & 2 to the power of 3 is 8\n"
     ]
    }
   ],
   "source": [
    "# to the power of is **\n",
    "frank = int(2 ** 2)\n",
    "murray = int(2 ** 3)\n",
    "print(\"So 2 to the power of 2 is \" + str(frank) + \", & 2 to the power of 3 is \" + str(murray))"
   ]
  },
  {
   "cell_type": "code",
   "execution_count": 32,
   "id": "ef1c2bc0",
   "metadata": {},
   "outputs": [
    {
     "name": "stdout",
     "output_type": "stream",
     "text": [
      "enter your height in m: 1.8\n",
      "enter your weight in kg: 63\n",
      "19\n"
     ]
    }
   ],
   "source": [
    "# Write a program that calculates the Body Mass Index (BMI) from a user's weight and height.\n",
    "height = input(\"enter your height in m: \")\n",
    "weight = input(\"enter your weight in kg: \")\n",
    "\n",
    "# BMI = weight/height(squared)\n",
    "\n",
    "BMI = float(weight) / (float(height) ** 2)\n",
    "\n",
    "print(int(BMI))\n"
   ]
  },
  {
   "cell_type": "code",
   "execution_count": 39,
   "id": "91062471",
   "metadata": {},
   "outputs": [
    {
     "name": "stdout",
     "output_type": "stream",
     "text": [
      "enter your height in inches: 69\n",
      "enter your weight in lbs: 170\n",
      "25.1\n"
     ]
    }
   ],
   "source": [
    "# Write a program that calculates the Body Mass Index (BMI) from a user's weight and height.\n",
    "us_height = input(\"enter your height in inches: \")\n",
    "us_weight = input(\"enter your weight in lbs: \")\n",
    "\n",
    "# BMI = weight/height(squared)\n",
    "\n",
    "weight = float(us_weight) * .453592\n",
    "height = float(us_height) * 0.0254\n",
    "us_BMI = float(weight) / (float(height) ** 2)\n",
    "\n",
    "print(round(us_BMI, 1))"
   ]
  },
  {
   "cell_type": "code",
   "execution_count": null,
   "id": "d440e366",
   "metadata": {},
   "outputs": [],
   "source": []
  }
 ],
 "metadata": {
  "kernelspec": {
   "display_name": "PythonData",
   "language": "python",
   "name": "pythondata"
  },
  "language_info": {
   "codemirror_mode": {
    "name": "ipython",
    "version": 3
   },
   "file_extension": ".py",
   "mimetype": "text/x-python",
   "name": "python",
   "nbconvert_exporter": "python",
   "pygments_lexer": "ipython3",
   "version": "3.7.7"
  }
 },
 "nbformat": 4,
 "nbformat_minor": 5
}
