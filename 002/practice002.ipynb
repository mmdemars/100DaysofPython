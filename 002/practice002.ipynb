{
 "cells": [
  {
   "cell_type": "code",
   "execution_count": 1,
   "id": "61f2ff92",
   "metadata": {},
   "outputs": [
    {
     "name": "stdout",
     "output_type": "stream",
     "text": [
      "H\n"
     ]
    }
   ],
   "source": [
    "# Subscripting\n",
    "print(\"Hello\"[0])\n",
    "# will give you \"H\" - the brackets denotes the position within the string"
   ]
  },
  {
   "cell_type": "code",
   "execution_count": 2,
   "id": "f5d5dc4b",
   "metadata": {},
   "outputs": [
    {
     "name": "stdout",
     "output_type": "stream",
     "text": [
      "123345\n"
     ]
    }
   ],
   "source": [
    "#concatenating stings\n",
    "print(\"123\" + \"345\")\n",
    "# will print \"123345\" - remove the parentheses to get actual math"
   ]
  },
  {
   "cell_type": "code",
   "execution_count": 3,
   "id": "55c350c3",
   "metadata": {},
   "outputs": [
    {
     "name": "stdout",
     "output_type": "stream",
     "text": [
      "123345567\n"
     ]
    }
   ],
   "source": [
    "print(123_345_567)\n",
    "# python will read that as 123345567 - converts the underscores to nothings - use instead of commas\n"
   ]
  },
  {
   "cell_type": "code",
   "execution_count": 7,
   "id": "d53ca722",
   "metadata": {},
   "outputs": [
    {
     "name": "stdout",
     "output_type": "stream",
     "text": [
      "What is your name?Francine\n",
      "Your name has 8 characters.\n"
     ]
    }
   ],
   "source": [
    "# num_char is an integer, i.e. the length of the name\n",
    "num_char = len(input(\"What is your name?\"))\n",
    "               \n",
    "# cast the variable as a string and put it in a new variable    \n",
    "new_num_char = str(num_char)\n",
    "               \n",
    "print(\"Your name has \" + new_num_char + \" characters.\")"
   ]
  },
  {
   "cell_type": "code",
   "execution_count": 11,
   "id": "b5800389",
   "metadata": {},
   "outputs": [
    {
     "name": "stdout",
     "output_type": "stream",
     "text": [
      "Type a two digit number: 45\n",
      "9\n"
     ]
    }
   ],
   "source": [
    "# Write a program that adds the digits in a 2 digit number. \n",
    "# e.g. if the input was 35, then the output should be 3 + 5 = 8\n",
    "\n",
    "two_digit_number = input(\"Type a two digit number: \")\n",
    "\n",
    "digit1 = two_digit_number[0]\n",
    "digit2 = two_digit_number[1]\n",
    "\n",
    "print(int(digit1) + int(digit2))"
   ]
  },
  {
   "cell_type": "code",
   "execution_count": 26,
   "id": "e5a54178",
   "metadata": {},
   "outputs": [
    {
     "name": "stdout",
     "output_type": "stream",
     "text": [
      "So 2 to the power of 2 is 4, & 2 to the power of 3 is 8\n"
     ]
    }
   ],
   "source": [
    "# to the power of is **\n",
    "frank = int(2 ** 2)\n",
    "murray = int(2 ** 3)\n",
    "print(\"So 2 to the power of 2 is \" + str(frank) + \", & 2 to the power of 3 is \" + str(murray))"
   ]
  },
  {
   "cell_type": "code",
   "execution_count": 32,
   "id": "c9f1efec",
   "metadata": {},
   "outputs": [
    {
     "name": "stdout",
     "output_type": "stream",
     "text": [
      "enter your height in m: 1.8\n",
      "enter your weight in kg: 63\n",
      "19\n"
     ]
    }
   ],
   "source": [
    "# Write a program that calculates the Body Mass Index (BMI) from a user's weight and height.\n",
    "height = input(\"enter your height in m: \")\n",
    "weight = input(\"enter your weight in kg: \")\n",
    "\n",
    "# BMI = weight/height(squared)\n",
    "\n",
    "BMI = float(weight) / (float(height) ** 2)\n",
    "\n",
    "print(int(BMI))\n"
   ]
  },
  {
   "cell_type": "code",
   "execution_count": 39,
   "id": "9cb1b9a4",
   "metadata": {},
   "outputs": [
    {
     "name": "stdout",
     "output_type": "stream",
     "text": [
      "enter your height in inches: 69\n",
      "enter your weight in lbs: 170\n",
      "25.1\n"
     ]
    }
   ],
   "source": [
    "# Write a program that calculates the Body Mass Index (BMI) from a user's weight and height.\n",
    "us_height = input(\"enter your height in inches: \")\n",
    "us_weight = input(\"enter your weight in lbs: \")\n",
    "\n",
    "# BMI = weight/height(squared)\n",
    "\n",
    "weight = float(us_weight) * .453592\n",
    "height = float(us_height) * 0.0254\n",
    "us_BMI = float(weight) / (float(height) ** 2)\n",
    "\n",
    "print(round(us_BMI, 1))"
   ]
  },
  {
   "cell_type": "code",
   "execution_count": 40,
   "id": "dd4dba51",
   "metadata": {},
   "outputs": [
    {
     "name": "stdout",
     "output_type": "stream",
     "text": [
      "1\n"
     ]
    }
   ],
   "source": [
    "score = 0\n",
    "score += 1\n",
    "print(score)"
   ]
  },
  {
   "cell_type": "code",
   "execution_count": 42,
   "id": "3a3c6a38",
   "metadata": {},
   "outputs": [
    {
     "name": "stdout",
     "output_type": "stream",
     "text": [
      "your score is 0, your height is 1.8, it is True that you are winning\n"
     ]
    }
   ],
   "source": [
    "score = 0\n",
    "height = 1.8\n",
    "isWinning = True\n",
    "\n",
    "# putting it in an f-string means no more caasting each variable as a thing to get them to do things together - \n",
    "# just put the variable in curly braces\n",
    "print(f\"your score is {score}, your height is {height}, it is {isWinning} that you are winning\")"
   ]
  },
  {
   "cell_type": "code",
   "execution_count": 45,
   "id": "b5152bf5",
   "metadata": {},
   "outputs": [
    {
     "name": "stdout",
     "output_type": "stream",
     "text": [
      "What is your current age?41\n",
      "You have 17885 days, 2548 weeks, and 588 months left.\n"
     ]
    }
   ],
   "source": [
    "# Create a program using maths and f-Strings that tells us how many days, weeks, \n",
    "# months we have left if we live until 90 years old.\n",
    "# There are 365 days in a year, 52 weeks in a year and 12 months in a year.\n",
    "age = input(\"What is your current age?\")\n",
    "\n",
    "leftover = 90 - int(age)\n",
    "\n",
    "days = leftover * 365\n",
    "weeks = leftover * 52\n",
    "months = leftover * 12\n",
    "\n",
    "print(f\"You have {days} days, {weeks} weeks, and {months} months left.\")"
   ]
  },
  {
   "cell_type": "code",
   "execution_count": null,
   "id": "8e1ad72a",
   "metadata": {},
   "outputs": [],
   "source": []
  }
 ],
 "metadata": {
  "kernelspec": {
   "display_name": "PythonData",
   "language": "python",
   "name": "pythondata"
  },
  "language_info": {
   "codemirror_mode": {
    "name": "ipython",
    "version": 3
   },
   "file_extension": ".py",
   "mimetype": "text/x-python",
   "name": "python",
   "nbconvert_exporter": "python",
   "pygments_lexer": "ipython3",
   "version": "3.7.7"
  }
 },
 "nbformat": 4,
 "nbformat_minor": 5
}
