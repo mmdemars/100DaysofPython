{
 "cells": [
  {
   "cell_type": "code",
   "execution_count": 13,
   "id": "a53f0217",
   "metadata": {},
   "outputs": [
    {
     "name": "stdout",
     "output_type": "stream",
     "text": [
      "Welcome to the tip calculator. \n",
      "What was the total bill? $123\n",
      "What percentage tip would you like to give? 10, 12 or 15 10\n",
      "How many people to split the bill? 5\n",
      "Each person should pay: $27.06\n"
     ]
    }
   ],
   "source": [
    "print(\"Welcome to the tip calculator. \")\n",
    "total_bill = float(input(\"What was the total bill? $\"))\n",
    "tip = int(input(\"What percentage tip would you like to give? 10, 12 or 15 \"))\n",
    "party = int(input(\"How many people to split the bill? \"))\n",
    "\n",
    "total_tip = (tip)/100 * total_bill\n",
    "bill_with_tip = total_bill + total_tip\n",
    "split_check = bill_with_tip / party\n",
    "\n",
    "result = (f\"Each person should pay: ${(round(split_check, 2))}\")\n",
    "\n",
    "print(result)"
   ]
  }
 ],
 "metadata": {
  "kernelspec": {
   "display_name": "PythonData",
   "language": "python",
   "name": "pythondata"
  },
  "language_info": {
   "codemirror_mode": {
    "name": "ipython",
    "version": 3
   },
   "file_extension": ".py",
   "mimetype": "text/x-python",
   "name": "python",
   "nbconvert_exporter": "python",
   "pygments_lexer": "ipython3",
   "version": "3.7.7"
  }
 },
 "nbformat": 4,
 "nbformat_minor": 5
}
