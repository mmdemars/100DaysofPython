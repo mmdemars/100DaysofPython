{
 "cells": [
  {
   "cell_type": "code",
   "execution_count": 2,
   "id": "59fe3089",
   "metadata": {},
   "outputs": [],
   "source": [
    "import random\n",
    "from art import logo\n",
    "from game_data import data"
   ]
  },
  {
   "cell_type": "code",
   "execution_count": 3,
   "id": "3feb93f2",
   "metadata": {},
   "outputs": [],
   "source": [
    "# A = random selection from data - name, description, country\n",
    "# B = random selection from data - name, description, country\n",
    "\n",
    "#input selection - which is higher?\n",
    "\n",
    "# if A[follower_count] > B[follower_count]\n",
    "#     most popular = A\n",
    "# else\n",
    "#     most_popular = B\n",
    "\n",
    "# if input selection = most popular\n",
    "#     score += 1\n",
    "#     most popular = A\n",
    "#     B = random selection\n",
    "#     game_over = False\n",
    "#     ask which is higher again"
   ]
  },
  {
   "cell_type": "code",
   "execution_count": 69,
   "id": "a854b7ac",
   "metadata": {},
   "outputs": [
    {
     "name": "stdout",
     "output_type": "stream",
     "text": [
      "Compare A: Cristiano Ronaldo, a Footballer, from Portugal\n",
      "Against B: Emma Watson, a Actress, from United Kingdom\n",
      "Who has more followers? Type 'A' or 'B': B\n",
      "Sorry, that's wrong. Final score: 0\n"
     ]
    }
   ],
   "source": [
    "def game():    \n",
    "    keep_playing = True\n",
    "    score = 0\n",
    "    \n",
    "    a_start = random.randint(1, 50)\n",
    "    b_ref = random.randint(1, 50)\n",
    "    A_data = data[a_start]\n",
    "    B_data = data[b_ref]\n",
    "\n",
    "    while keep_playing:\n",
    "        print(f\"Compare A: {A_data['name']}, a {A_data['description']}, from {A_data['country']}\")\n",
    "        print(f\"Against B: {B_data['name']}, a {B_data['description']}, from {B_data['country']}\")\n",
    "        \n",
    "        if A_data['follower_count'] > B_data['follower_count']:\n",
    "            most_popular = \"A\"\n",
    "        else:\n",
    "            most_popular = \"B\"\n",
    "    \n",
    "        user_guess = input(\"Who has more followers? Type 'A' or 'B': \")\n",
    "\n",
    "        if user_guess == most_popular:\n",
    "            if most_popular == \"B\":\n",
    "                A_data = B_data\n",
    "                b_ref = random.randint(1, 50)\n",
    "                B_data = data[b_ref]\n",
    "                score += 1\n",
    "            else:\n",
    "                b_ref = random.randint(1, 50)\n",
    "                B_data = data[b_ref]\n",
    "                score +=1\n",
    "            print(f\"That's correct, your score is {score}\")\n",
    "        elif user_guess != most_popular:\n",
    "            print(f\"Sorry, that's wrong. Final score: {score}\")\n",
    "            keep_playing = False\n",
    "\n",
    "game()"
   ]
  },
  {
   "cell_type": "code",
   "execution_count": 37,
   "id": "011d393f",
   "metadata": {},
   "outputs": [],
   "source": []
  }
 ],
 "metadata": {
  "kernelspec": {
   "display_name": "PythonData",
   "language": "python",
   "name": "pythondata"
  },
  "language_info": {
   "codemirror_mode": {
    "name": "ipython",
    "version": 3
   },
   "file_extension": ".py",
   "mimetype": "text/x-python",
   "name": "python",
   "nbconvert_exporter": "python",
   "pygments_lexer": "ipython3",
   "version": "3.7.7"
  }
 },
 "nbformat": 4,
 "nbformat_minor": 5
}
