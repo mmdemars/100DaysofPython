{
 "cells": [
  {
   "cell_type": "code",
   "execution_count": 2,
   "id": "5c1b8fb6",
   "metadata": {},
   "outputs": [
    {
     "name": "stdout",
     "output_type": "stream",
     "text": [
      "6\n"
     ]
    }
   ],
   "source": [
    "import random\n",
    "\n",
    "random_integer = random.randint(1, 10)\n",
    "print(random_integer)"
   ]
  },
  {
   "cell_type": "code",
   "execution_count": 3,
   "id": "9c1bd6eb",
   "metadata": {},
   "outputs": [
    {
     "name": "stdout",
     "output_type": "stream",
     "text": [
      "0.3155532723096979\n"
     ]
    }
   ],
   "source": [
    "# random.random generates a random float between 0 and 1\n",
    "rando_float = random.random()\n",
    "print(rando_float)"
   ]
  },
  {
   "cell_type": "code",
   "execution_count": 6,
   "id": "15f206e3",
   "metadata": {},
   "outputs": [
    {
     "name": "stdout",
     "output_type": "stream",
     "text": [
      "4.876065186842191\n"
     ]
    }
   ],
   "source": [
    "# to create a random float large than 1, make it math\n",
    "what = random.random() * 5\n",
    "print(what)"
   ]
  },
  {
   "cell_type": "code",
   "execution_count": 11,
   "id": "5046d350",
   "metadata": {},
   "outputs": [
    {
     "name": "stdout",
     "output_type": "stream",
     "text": [
      "Create a seed number: 4\n",
      "Tails\n"
     ]
    }
   ],
   "source": [
    "# You are going to write a virtual coin toss program. It will randomly tell the user \"Heads\" or \"Tails\".\n",
    "test_seed = int(input(\"Create a seed number: \"))\n",
    "random.seed(test_seed)\n",
    "\n",
    "random_side = random.randint(0,1)\n",
    "if random_side == 1:\n",
    "    print(\"Heads\")\n",
    "else:\n",
    "    print(\"Tails\")"
   ]
  },
  {
   "cell_type": "code",
   "execution_count": 13,
   "id": "0da41f58",
   "metadata": {},
   "outputs": [
    {
     "name": "stdout",
     "output_type": "stream",
     "text": [
      "item3\n"
     ]
    }
   ],
   "source": [
    "# lists\n",
    "list = [\"item1\", \"item2\", \"item3\"]\n",
    "print(list[2])"
   ]
  },
  {
   "cell_type": "code",
   "execution_count": 14,
   "id": "e2bb521d",
   "metadata": {},
   "outputs": [
    {
     "name": "stdout",
     "output_type": "stream",
     "text": [
      "['item1', 'item2', 'newitem3']\n"
     ]
    }
   ],
   "source": [
    "list[2] = \"newitem3\"\n",
    "print(list)"
   ]
  },
  {
   "cell_type": "code",
   "execution_count": 15,
   "id": "655989a3",
   "metadata": {},
   "outputs": [
    {
     "name": "stdout",
     "output_type": "stream",
     "text": [
      "['item1', 'item2', 'newitem3', 'item4']\n"
     ]
    }
   ],
   "source": [
    "list.append(\"item4\")\n",
    "print(list)"
   ]
  },
  {
   "cell_type": "code",
   "execution_count": 25,
   "id": "96c46932",
   "metadata": {},
   "outputs": [
    {
     "name": "stdout",
     "output_type": "stream",
     "text": [
      "Create a seed number: 567\n",
      "Give me everybody's names, separated by a comma. Andrew, Annie, Michelle, Daenerys Targareananabanana, Tom Sturridge, the Corinthian, Pirate Tom, Peter,\n",
      "Michelle is going to buy the meal today!\n"
     ]
    }
   ],
   "source": [
    "# Banker Roulette - You are going to write a program that will select a random name from a list of names. \n",
    "# The person selected will have to pay for everybody's food bill.\n",
    "test_seed = int(input(\"Create a seed number: \"))\n",
    "random.seed(test_seed)\n",
    "\n",
    "# Split string method\n",
    "names_string = input(\"Give me everybody's names, separated by a comma. \")\n",
    "names = names_string.split(\", \")\n",
    "\n",
    "groupsize = len(names)\n",
    "roulette = random.randint(0, groupsize - 1)\n",
    "victim = names[roulette]\n",
    "\n",
    "print(f\"{victim} is going to buy the meal today!\")"
   ]
  },
  {
   "cell_type": "code",
   "execution_count": 26,
   "id": "47d0930c",
   "metadata": {},
   "outputs": [
    {
     "name": "stdout",
     "output_type": "stream",
     "text": [
      "[['Strawberries', 'Nectarines', 'Apples', 'Grapes', 'Peaches', 'Cherries', 'Pears'], ['Spinach', 'Kale', 'Tomatoes', 'Celery', 'Potatoes']]\n"
     ]
    }
   ],
   "source": [
    "#lists nested inside lists\n",
    "# dirty_dozen = [\"Straeberries\", \"Spinach\", \"Kale\", \"Nectarines\", \"Apples\", \"Grapes\", \"Peaches\", \"Cherries\", \"Pears\", \"Tomatoes\", \"Celery\", \"Potatoes\"]\n",
    "\n",
    "fruits = [\"Strawberries\", \"Nectarines\", \"Apples\", \"Grapes\", \"Peaches\", \"Cherries\", \"Pears\"]\n",
    "vegetables = [\"Spinach\", \"Kale\", \"Tomatoes\", \"Celery\", \"Potatoes\"]\n",
    "\n",
    "dirty_dozen = [fruits, vegetables]\n",
    "\n",
    "print(dirty_dozen)"
   ]
  },
  {
   "cell_type": "code",
   "execution_count": 27,
   "id": "3f42da15",
   "metadata": {},
   "outputs": [
    {
     "name": "stdout",
     "output_type": "stream",
     "text": [
      "Kale\n"
     ]
    }
   ],
   "source": [
    "fruits = [\"Strawberries\", \"Nectarines\", \"Apples\", \"Grapes\", \"Peaches\", \"Cherries\", \"Pears\"]\n",
    "vegetables = [\"Spinach\", \"Kale\", \"Tomatoes\", \"Celery\", \"Potatoes\"]\n",
    " \n",
    "dirty_dozen = [fruits, vegetables]\n",
    " \n",
    "print(dirty_dozen[1][1])"
   ]
  },
  {
   "cell_type": "code",
   "execution_count": 40,
   "id": "5e07a02c",
   "metadata": {},
   "outputs": [
    {
     "name": "stdout",
     "output_type": "stream",
     "text": [
      "['⬜️', '️⬜️', '️⬜️']\n",
      "['⬜️', '⬜️', '️⬜️']\n",
      "['⬜️️', '⬜️️', '⬜️️']\n",
      "Where do you want to put the treasure? 22\n",
      "['⬜️', '️⬜️', '️⬜️']\n",
      "['⬜️', 'X', '️⬜️']\n",
      "['⬜️️', '⬜️️', '⬜️️']\n"
     ]
    }
   ],
   "source": [
    "# You are going to write a program that will mark a spot with an X.\n",
    "# Don't change the code below \n",
    "row1 = [\"⬜️\",\"️⬜️\",\"️⬜️\"]\n",
    "row2 = [\"⬜️\",\"⬜️\",\"️⬜️\"]\n",
    "row3 = [\"⬜️️\",\"⬜️️\",\"⬜️️\"]\n",
    "map = [row1, row2, row3]\n",
    "print(f\"{row1}\\n{row2}\\n{row3}\")\n",
    "position = input(\"Where do you want to put the treasure? \")\n",
    "#  Don't change the code above \n",
    "\n",
    "# Write your code below this row \n",
    "\n",
    "# Take input and divide it into two variables\n",
    "position_string = str(position)\n",
    "column = position_string[0]\n",
    "row = position_string[1]\n",
    "\n",
    "# Turn variables into positions in the lists\n",
    "if int(row) == 1:\n",
    "     row1[int(column) - 1] = \"X\"\n",
    "elif int(row) == 2:\n",
    "     row2[int(column) - 1] = \"X\"\n",
    "elif int(row) == 3:\n",
    "     row3[int(column) - 1] = \"X\"\n",
    "\n",
    "#Write your code above this row \n",
    "\n",
    "#  Don't change the code below \n",
    "print(f\"{row1}\\n{row2}\\n{row3}\")"
   ]
  },
  {
   "cell_type": "code",
   "execution_count": 41,
   "id": "55e41482",
   "metadata": {},
   "outputs": [
    {
     "name": "stdout",
     "output_type": "stream",
     "text": [
      "['⬜️', '️⬜️', '️⬜️']\n",
      "['⬜️', '⬜️', '️⬜️']\n",
      "['⬜️️', '⬜️️', '⬜️️']\n",
      "Where do you want to put the treasure? 32\n",
      "['⬜️', '️⬜️', '️⬜️']\n",
      "['⬜️', '⬜️', 'X']\n",
      "['⬜️️', '⬜️️', '⬜️️']\n"
     ]
    }
   ],
   "source": [
    "# Alternate solution from course\n",
    "\n",
    "# You are going to write a program that will mark a spot with an X.\n",
    "# Don't change the code below \n",
    "row1 = [\"⬜️\",\"️⬜️\",\"️⬜️\"]\n",
    "row2 = [\"⬜️\",\"⬜️\",\"️⬜️\"]\n",
    "row3 = [\"⬜️️\",\"⬜️️\",\"⬜️️\"]\n",
    "map = [row1, row2, row3]\n",
    "print(f\"{row1}\\n{row2}\\n{row3}\")\n",
    "position = input(\"Where do you want to put the treasure? \")\n",
    "#  Don't change the code above \n",
    "\n",
    "# Write your code below this row \n",
    "\n",
    "# Take input and divide it into two variables\n",
    "horizontal = int(position[0])\n",
    "vertical = int(position[1])\n",
    "\n",
    "selected_row = map[vertical - 1]\n",
    "selected_row[horizontal - 1] = \"X\"\n",
    "\n",
    "#Write your code above this row \n",
    "\n",
    "#  Don't change the code below \n",
    "print(f\"{row1}\\n{row2}\\n{row3}\")"
   ]
  },
  {
   "cell_type": "code",
   "execution_count": null,
   "id": "846363a8",
   "metadata": {},
   "outputs": [],
   "source": []
  }
 ],
 "metadata": {
  "kernelspec": {
   "display_name": "PythonData",
   "language": "python",
   "name": "pythondata"
  },
  "language_info": {
   "codemirror_mode": {
    "name": "ipython",
    "version": 3
   },
   "file_extension": ".py",
   "mimetype": "text/x-python",
   "name": "python",
   "nbconvert_exporter": "python",
   "pygments_lexer": "ipython3",
   "version": "3.7.7"
  }
 },
 "nbformat": 4,
 "nbformat_minor": 5
}
