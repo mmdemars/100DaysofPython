{
 "cells": [
  {
   "cell_type": "code",
   "execution_count": 8,
   "id": "4d328446",
   "metadata": {},
   "outputs": [],
   "source": [
    "from menu import Menu, MenuItem\n",
    "from coffee_maker import CoffeeMaker\n",
    "from money_machine import MoneyMachine"
   ]
  },
  {
   "cell_type": "code",
   "execution_count": 9,
   "id": "a390a2d6",
   "metadata": {},
   "outputs": [
    {
     "name": "stdout",
     "output_type": "stream",
     "text": [
      "Money: $0\n"
     ]
    }
   ],
   "source": [
    "money_machine = MoneyMachine()\n",
    "money_machine.report()"
   ]
  },
  {
   "cell_type": "code",
   "execution_count": 10,
   "id": "73bf0fcd",
   "metadata": {},
   "outputs": [
    {
     "name": "stdout",
     "output_type": "stream",
     "text": [
      "Water: 300ml\n",
      "Milk: 200ml\n",
      "Coffee: 100g\n"
     ]
    }
   ],
   "source": [
    "coffee_maker = CoffeeMaker()\n",
    "coffee_maker.report()"
   ]
  },
  {
   "cell_type": "code",
   "execution_count": 11,
   "id": "f0119b48",
   "metadata": {},
   "outputs": [],
   "source": [
    "menu = Menu()"
   ]
  },
  {
   "cell_type": "code",
   "execution_count": 16,
   "id": "648cadf3",
   "metadata": {},
   "outputs": [
    {
     "name": "stdout",
     "output_type": "stream",
     "text": [
      "What would you like? (latte/espresso/cappuccino/): report\n",
      "Water: 300ml\n",
      "Milk: 200ml\n",
      "Coffee: 100g\n",
      "Money: $2.5\n",
      "What would you like? (latte/espresso/cappuccino/): latte\n",
      "Please insert coins.\n",
      "How many quarters?: 5\n",
      "How many dimes?: 28\n",
      "How many nickles?: 4\n",
      "How many pennies?: 2\n",
      "Here is $1.77 in change.\n",
      "Here is your latte ☕️. Enjoy!\n",
      "What would you like? (latte/espresso/cappuccino/): cappuccino\n",
      "Sorry there is not enough water.\n",
      "What would you like? (latte/espresso/cappuccino/): espresso\n",
      "Please insert coins.\n",
      "How many quarters?: 7\n",
      "How many dimes?: 7\n",
      "How many nickles?: 9\n",
      "How many pennies?: 20\n",
      "Here is $1.6 in change.\n",
      "Here is your espresso ☕️. Enjoy!\n",
      "What would you like? (latte/espresso/cappuccino/): espresso\n",
      "Please insert coins.\n",
      "How many quarters?: 8\n",
      "How many dimes?: 8\n",
      "How many nickles?: 8\n",
      "How many pennies?: 8\n",
      "Here is $1.78 in change.\n",
      "Here is your espresso ☕️. Enjoy!\n",
      "What would you like? (latte/espresso/cappuccino/): report\n",
      "Water: 0ml\n",
      "Milk: 50ml\n",
      "Coffee: 40g\n",
      "Money: $8.0\n",
      "What would you like? (latte/espresso/cappuccino/): off\n"
     ]
    }
   ],
   "source": [
    "is_on = True\n",
    "while is_on:\n",
    "    options = menu.get_items()\n",
    "    choice = input(f\"What would you like? ({options}): \")\n",
    "    if choice == \"off\":\n",
    "        is_on = False\n",
    "    elif choice == \"report\":\n",
    "        coffee_maker.report()\n",
    "        money_machine.report()\n",
    "    else:\n",
    "        drink = menu.find_drink(choice)\n",
    "        if coffee_maker.is_resource_sufficient(drink):\n",
    "            if money_machine.make_payment(drink.cost):\n",
    "                coffee_maker.make_coffee(drink)\n",
    "    "
   ]
  },
  {
   "cell_type": "code",
   "execution_count": null,
   "id": "cb220aaa",
   "metadata": {},
   "outputs": [],
   "source": []
  }
 ],
 "metadata": {
  "kernelspec": {
   "display_name": "PythonData",
   "language": "python",
   "name": "pythondata"
  },
  "language_info": {
   "codemirror_mode": {
    "name": "ipython",
    "version": 3
   },
   "file_extension": ".py",
   "mimetype": "text/x-python",
   "name": "python",
   "nbconvert_exporter": "python",
   "pygments_lexer": "ipython3",
   "version": "3.7.7"
  }
 },
 "nbformat": 4,
 "nbformat_minor": 5
}
