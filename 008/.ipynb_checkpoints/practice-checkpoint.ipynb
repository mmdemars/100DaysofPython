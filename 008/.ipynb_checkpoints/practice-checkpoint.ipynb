{
 "cells": [
  {
   "cell_type": "code",
   "execution_count": 1,
   "id": "40b8fcb7",
   "metadata": {},
   "outputs": [
    {
     "name": "stdout",
     "output_type": "stream",
     "text": [
      "Hello!\n",
      "Today is a great day.\n",
      "I hope you write excellent code.\n"
     ]
    }
   ],
   "source": [
    "# Review: \n",
    "# Create a function called greet(). \n",
    "# Write 3 print statements inside the function.\n",
    "# Call the greet() function and run your code.\n",
    "\n",
    "def greet():\n",
    "    print(\"Hello!\")\n",
    "    print(\"Today is a great day.\")\n",
    "    print(\"I hope you write excellent code.\")\n",
    "\n",
    "greet()"
   ]
  },
  {
   "cell_type": "code",
   "execution_count": 2,
   "id": "1f9df20c",
   "metadata": {},
   "outputs": [
    {
     "name": "stdout",
     "output_type": "stream",
     "text": [
      "Hello Michelle!\n",
      "Today is a great day.\n",
      "I hope you write excellent code, Michelle.\n"
     ]
    }
   ],
   "source": [
    "def greet2(name):\n",
    "    print(f\"Hello {name}!\")\n",
    "    print(\"Today is a great day.\")\n",
    "    print(f\"I hope you write excellent code, {name}.\")\n",
    "greet2(\"Michelle\")    "
   ]
  },
  {
   "cell_type": "code",
   "execution_count": 3,
   "id": "5a78bc9b",
   "metadata": {},
   "outputs": [
    {
     "name": "stdout",
     "output_type": "stream",
     "text": [
      "Hello Michelle!\n",
      "Today is a great day in Kansas City.\n"
     ]
    }
   ],
   "source": [
    "# positional argument\n",
    "def greet_with(name, location):\n",
    "    print(f\"Hello {name}!\")\n",
    "    print(f\"Today is a great day in {location}.\")\n",
    "greet_with(\"Michelle\", \"Kansas City\")    "
   ]
  },
  {
   "cell_type": "code",
   "execution_count": 4,
   "id": "526f54bb",
   "metadata": {},
   "outputs": [
    {
     "name": "stdout",
     "output_type": "stream",
     "text": [
      "Hello Michelle!\n",
      "Today is a great day in Seattle.\n"
     ]
    }
   ],
   "source": [
    "# Keyword arguement\n",
    "greet_with(location=\"Seattle\",name=\"Michelle\")    "
   ]
  },
  {
   "cell_type": "code",
   "execution_count": 7,
   "id": "e3b3cbfe",
   "metadata": {},
   "outputs": [
    {
     "name": "stdout",
     "output_type": "stream",
     "text": [
      "Height of wall: 3\n",
      "Width of wall: 6\n",
      "You'll need 4 cans of paint.\n"
     ]
    }
   ],
   "source": [
    "# You are painting a wall. The instructions on the paint can says that 1 can of paint can cover \n",
    "# 5 square meters of wall. Given a random height and width of wall, calculate how many cans of \n",
    "# paint you'll need to buy.\n",
    "\n",
    "#Write your code below this line \n",
    "\n",
    "import math\n",
    "def paint_calc(height, width, cover):\n",
    "    cans = (test_h * test_w)/coverage\n",
    "    print(f\"You'll need {math.ceil(cans)} cans of paint.\")\n",
    "\n",
    "#Write your code above this line \n",
    "# Define a function called paint_calc() so that the code below works.   \n",
    "\n",
    "# Don't change the code below \n",
    "test_h = int(input(\"Height of wall: \"))\n",
    "test_w = int(input(\"Width of wall: \"))\n",
    "coverage = 5\n",
    "paint_calc(height=test_h, width=test_w, cover=coverage)\n"
   ]
  },
  {
   "cell_type": "code",
   "execution_count": 26,
   "id": "23c9d408",
   "metadata": {},
   "outputs": [
    {
     "name": "stdout",
     "output_type": "stream",
     "text": [
      "Check this number: 13\n",
      "It's a prime number.\n"
     ]
    }
   ],
   "source": [
    "# Prime numbers are numbers that can only be cleanly divided by themselves and 1.\n",
    "#You need to write a function that checks whether if the number passed into it is a prime number or not.\n",
    "# Write your code below this line 👇\n",
    "def prime_checker(number):\n",
    "    target=[]\n",
    "    for i in range(1,n):\n",
    "        if n%i==0:\n",
    "            target.append(i)\n",
    "    if len(target)>1:\n",
    "        print(\"It's not a prime number.\")\n",
    "    else:\n",
    "        print(\"It's a prime number.\")\n",
    "\n",
    "#Write your code above this line 👆\n",
    "    \n",
    "#Do NOT change any of the code below👇\n",
    "n = int(input(\"Check this number: \"))\n",
    "prime_checker(number=n)\n"
   ]
  },
  {
   "cell_type": "code",
   "execution_count": null,
   "id": "1faaf124",
   "metadata": {},
   "outputs": [],
   "source": []
  }
 ],
 "metadata": {
  "kernelspec": {
   "display_name": "PythonData",
   "language": "python",
   "name": "pythondata"
  },
  "language_info": {
   "codemirror_mode": {
    "name": "ipython",
    "version": 3
   },
   "file_extension": ".py",
   "mimetype": "text/x-python",
   "name": "python",
   "nbconvert_exporter": "python",
   "pygments_lexer": "ipython3",
   "version": "3.7.7"
  }
 },
 "nbformat": 4,
 "nbformat_minor": 5
}
