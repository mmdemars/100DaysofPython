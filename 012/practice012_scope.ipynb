{
 "cells": [
  {
   "cell_type": "code",
   "execution_count": 2,
   "id": "479a16ed",
   "metadata": {},
   "outputs": [
    {
     "name": "stdout",
     "output_type": "stream",
     "text": [
      "enemies inside function: 2\n",
      "enemies outside function: 1\n"
     ]
    }
   ],
   "source": [
    "enemies = 1\n",
    "\n",
    "def increase_enemies():\n",
    "      enemies = 2\n",
    "      print(f\"enemies inside function: {enemies}\")\n",
    "\n",
    "increase_enemies()\n",
    "print(f\"enemies outside function: {enemies}\")"
   ]
  },
  {
   "cell_type": "code",
   "execution_count": 3,
   "id": "b8557856",
   "metadata": {},
   "outputs": [
    {
     "name": "stdout",
     "output_type": "stream",
     "text": [
      "2\n"
     ]
    }
   ],
   "source": [
    "# Local Scope\n",
    "def drink_potion():\n",
    "    potion_strength = 2\n",
    "    print(potion_strength)\n",
    "drink_potion()"
   ]
  },
  {
   "cell_type": "code",
   "execution_count": 4,
   "id": "63548319",
   "metadata": {},
   "outputs": [
    {
     "ename": "NameError",
     "evalue": "name 'potion_strength' is not defined",
     "output_type": "error",
     "traceback": [
      "\u001b[0;31m---------------------------------------------------------------------------\u001b[0m",
      "\u001b[0;31mNameError\u001b[0m                                 Traceback (most recent call last)",
      "\u001b[0;32m/var/folders/k2/_vmbq89j1hxc6jj5_vc2km400000gn/T/ipykernel_41631/1739637841.py\u001b[0m in \u001b[0;36m<module>\u001b[0;34m\u001b[0m\n\u001b[0;32m----> 1\u001b[0;31m \u001b[0mprint\u001b[0m\u001b[0;34m(\u001b[0m\u001b[0mpotion_strength\u001b[0m\u001b[0;34m)\u001b[0m\u001b[0;34m\u001b[0m\u001b[0;34m\u001b[0m\u001b[0m\n\u001b[0m",
      "\u001b[0;31mNameError\u001b[0m: name 'potion_strength' is not defined"
     ]
    }
   ],
   "source": [
    "# Outside of the function the variable is not defined, \n",
    "# so you get an error if you try to print the variable outside of the function\n",
    "print(potion_strength)"
   ]
  },
  {
   "cell_type": "code",
   "execution_count": 5,
   "id": "39dd0f2f",
   "metadata": {},
   "outputs": [
    {
     "name": "stdout",
     "output_type": "stream",
     "text": [
      "10\n"
     ]
    }
   ],
   "source": [
    "# global scope\n",
    "player_health = 10\n",
    "def drink_potion():\n",
    "    potion_strength = 2\n",
    "    print(player_health)\n",
    "drink_potion()"
   ]
  },
  {
   "cell_type": "code",
   "execution_count": 1,
   "id": "cab62de9",
   "metadata": {},
   "outputs": [
    {
     "name": "stdout",
     "output_type": "stream",
     "text": [
      "Skeleton\n"
     ]
    }
   ],
   "source": [
    "game_level = 3\n",
    "def create_enemy():\n",
    "    enemies = [\"Skeleton\", \"Zombie\", \"Alien\"]\n",
    "    if game_level < 5:\n",
    "        new_enemy = enemies[0]\n",
    "print(new_enemy)"
   ]
  },
  {
   "cell_type": "code",
   "execution_count": 7,
   "id": "39b78a04",
   "metadata": {},
   "outputs": [
    {
     "name": "stdout",
     "output_type": "stream",
     "text": [
      "enemies inside function: 2\n",
      "enemies outside function: 2\n"
     ]
    }
   ],
   "source": [
    "#Modifying a Global Varaible\n",
    "enemies = 1\n",
    "\n",
    "def increase_enemies():\n",
    "    global enemies\n",
    "    enemies += 1\n",
    "    print(f\"enemies inside function: {enemies}\")\n",
    "    \n",
    "increase_enemies()\n",
    "print(f\"enemies outside function: {enemies}\")"
   ]
  },
  {
   "cell_type": "code",
   "execution_count": 10,
   "id": "28b3291e",
   "metadata": {},
   "outputs": [
    {
     "name": "stdout",
     "output_type": "stream",
     "text": [
      "enemies inside function: 2\n",
      "enemies outside function: None\n"
     ]
    }
   ],
   "source": [
    "enemies = 1\n",
    "\n",
    "def incease_enemies():\n",
    "    print(f\"enemies inside function: {enemies}\")\n",
    "    return enemies + 1\n",
    "\n",
    "enemies = increase_enemies()\n",
    "print(f\"enemies outside function: {enemies}\")"
   ]
  },
  {
   "cell_type": "code",
   "execution_count": null,
   "id": "978aa733",
   "metadata": {},
   "outputs": [],
   "source": [
    "# global constansts\n",
    "# name themin all uppercase seperated with underrscores\n",
    "\n",
    "PI = 3.14150\n",
    "URL = \"https://www.goole.com\""
   ]
  }
 ],
 "metadata": {
  "kernelspec": {
   "display_name": "PythonData",
   "language": "python",
   "name": "pythondata"
  },
  "language_info": {
   "codemirror_mode": {
    "name": "ipython",
    "version": 3
   },
   "file_extension": ".py",
   "mimetype": "text/x-python",
   "name": "python",
   "nbconvert_exporter": "python",
   "pygments_lexer": "ipython3",
   "version": "3.7.7"
  }
 },
 "nbformat": 4,
 "nbformat_minor": 5
}
