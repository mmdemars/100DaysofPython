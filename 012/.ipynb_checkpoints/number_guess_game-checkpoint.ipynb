{
 "cells": [
  {
   "cell_type": "code",
   "execution_count": 27,
   "id": "6c454c1d",
   "metadata": {},
   "outputs": [
    {
     "name": "stdout",
     "output_type": "stream",
     "text": [
      "5\n",
      "Welcome to the Number Guessing Game!\n",
      "I'm thinking of a number between 1 and 55\n",
      "Choose a difficulty. Type 'easy' or 'hard': hard\n",
      "Make a guess: 10\n",
      "Too low, you have 4 attempts left\n",
      "Make a guess: 20\n",
      "Too low, you have 3 attempts left\n",
      "Make a guess: 20\n",
      "Too low, you have 2 attempts left\n",
      "Make a guess: 20\n",
      "Too low, you have 1 attempts left\n",
      "Make a guess: 20\n",
      "Too low, you have 0 attempts left\n"
     ]
    },
    {
     "data": {
      "text/plain": [
       "'You are out of guesses, you lose'"
      ]
     },
     "execution_count": 27,
     "metadata": {},
     "output_type": "execute_result"
    }
   ],
   "source": [
    "# Number Guess Game\n",
    "import random\n",
    "    \n",
    "print(guess_count)\n",
    "\n",
    "def guessing_game():\n",
    "    game_over = False\n",
    "    # Create number range to guess within\n",
    "    outset = random.randint(10, 100)\n",
    "\n",
    "    # Create number within that range as target\n",
    "    target = random.randint(1, outset)\n",
    "\n",
    "    print(\"Welcome to the Number Guessing Game!\")\n",
    "    print(f\"I'm thinking of a number between 1 and {outset}\")\n",
    "    #print(f\"The solution is {target}\")\n",
    "\n",
    "    level = input(\"Choose a difficulty. Type 'easy' or 'hard': \")\n",
    "\n",
    "    if level == \"easy\":\n",
    "        guess_count = 10\n",
    "    else:\n",
    "        guess_count = 5\n",
    "\n",
    "    while not game_over:\n",
    "        while guess_count > 0:\n",
    "            for i in range(guess_count):\n",
    "                attempt = input(\"Make a guess: \")\n",
    "                attempt = int(attempt)\n",
    "                if attempt == target:\n",
    "                    game_over = True\n",
    "                    return(f\"Correct, the number was {target}. You won!\")\n",
    "                elif attempt > target:\n",
    "                    guess_count -= 1\n",
    "                    print(f\"Too high, you have {guess_count} attempts left\")\n",
    "                elif attempt < target:\n",
    "                    guess_count -= 1\n",
    "                    print(f\"Too low, you have {guess_count} attempts left\")\n",
    "        if guess_count == 0:\n",
    "            game_over = True\n",
    "            return(\"You are out of guesses, you lose\")\n",
    "\n",
    "guessing_game()\n",
    "# if hard guesses = 5\n",
    "# if easy guesses = 10\n",
    "\n",
    "# if guess = target\n",
    "# game = over\n",
    "\n",
    "# if guess > target\n",
    "# Too High, you have X guesses left\n",
    "\n",
    "# if guess < target\n",
    "# Loo Low, you haave X gueses left\n",
    "\n",
    "# guesses -+ 1"
   ]
  },
  {
   "cell_type": "code",
   "execution_count": null,
   "id": "63f8b859",
   "metadata": {},
   "outputs": [],
   "source": []
  },
  {
   "cell_type": "code",
   "execution_count": null,
   "id": "4b250203",
   "metadata": {},
   "outputs": [],
   "source": []
  }
 ],
 "metadata": {
  "kernelspec": {
   "display_name": "PythonData",
   "language": "python",
   "name": "pythondata"
  },
  "language_info": {
   "codemirror_mode": {
    "name": "ipython",
    "version": 3
   },
   "file_extension": ".py",
   "mimetype": "text/x-python",
   "name": "python",
   "nbconvert_exporter": "python",
   "pygments_lexer": "ipython3",
   "version": "3.7.7"
  }
 },
 "nbformat": 4,
 "nbformat_minor": 5
}
