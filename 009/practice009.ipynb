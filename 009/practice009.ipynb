{
 "cells": [
  {
   "cell_type": "code",
   "execution_count": 8,
   "id": "0f230142",
   "metadata": {},
   "outputs": [],
   "source": [
    "#define a dictionary\n",
    "programming_dictionary = {\n",
    "    \"Bug\": \"An error in a program that prevents the program from running as expected.\", \n",
    "    \"Function\": \"A piece of code that you can easily call over and over again.\",\n",
    "    \"Loop\": \"The action of doing something over and over again.\"\n",
    "    }\n"
   ]
  },
  {
   "cell_type": "code",
   "execution_count": 4,
   "id": "05813cf9",
   "metadata": {},
   "outputs": [
    {
     "name": "stdout",
     "output_type": "stream",
     "text": [
      "An error in a program that prevents the program from running as expected.\n"
     ]
    }
   ],
   "source": [
    "#retrieving items from a dictionary\n",
    "print(programming_dictionary[\"Bug\"])"
   ]
  },
  {
   "cell_type": "code",
   "execution_count": 9,
   "id": "c285785d",
   "metadata": {},
   "outputs": [
    {
     "name": "stdout",
     "output_type": "stream",
     "text": [
      "{'Bug': 'An error in a program that prevents the program from running as expected.', 'Function': 'A piece of code that you can easily call over and over again.', 'Loop': 'The action of doing something over and over again.', 'Error': 'When you fucked up.'}\n"
     ]
    }
   ],
   "source": [
    "#add to a dictionary\n",
    "programming_dictionary[\"Error\"] = \"When you fucked up.\"\n",
    "print(programming_dictionary)"
   ]
  },
  {
   "cell_type": "code",
   "execution_count": 6,
   "id": "bf874115",
   "metadata": {},
   "outputs": [],
   "source": [
    "#create an empty dictionary\n",
    "empty_dict = {}"
   ]
  },
  {
   "cell_type": "code",
   "execution_count": 7,
   "id": "165f35cf",
   "metadata": {},
   "outputs": [
    {
     "name": "stdout",
     "output_type": "stream",
     "text": [
      "{}\n"
     ]
    }
   ],
   "source": [
    "#Wipe an existing dictionary\n",
    "#programming_dictionary = {}\n",
    "#print(programming_dictionary)"
   ]
  },
  {
   "cell_type": "code",
   "execution_count": 10,
   "id": "a443cd5b",
   "metadata": {},
   "outputs": [
    {
     "name": "stdout",
     "output_type": "stream",
     "text": [
      "{'Bug': 'An error in a program that prevents the program from running as expected.', 'Function': 'A piece of code that you can easily call over and over again.', 'Loop': 'The action of doing something over and over again.', 'Error': \"When you fucked up. Don't do this.\"}\n"
     ]
    }
   ],
   "source": [
    "#edit an item in a dictionary\n",
    "programming_dictionary[\"Error\"] = \"When you fucked up. Don't do this.\"\n",
    "print(programming_dictionary)"
   ]
  },
  {
   "cell_type": "code",
   "execution_count": 11,
   "id": "5f0740fb",
   "metadata": {},
   "outputs": [
    {
     "name": "stdout",
     "output_type": "stream",
     "text": [
      "Bug\n",
      "Function\n",
      "Loop\n",
      "Error\n"
     ]
    }
   ],
   "source": [
    "#loop through a dictionary\n",
    "for thing in programming_dictionary:\n",
    "    print(thing)"
   ]
  },
  {
   "cell_type": "code",
   "execution_count": 12,
   "id": "3c58147d",
   "metadata": {},
   "outputs": [
    {
     "name": "stdout",
     "output_type": "stream",
     "text": [
      "Bug\n",
      "An error in a program that prevents the program from running as expected.\n",
      "Function\n",
      "A piece of code that you can easily call over and over again.\n",
      "Loop\n",
      "The action of doing something over and over again.\n",
      "Error\n",
      "When you fucked up. Don't do this.\n"
     ]
    }
   ],
   "source": [
    "#loop through a dictionary\n",
    "for thing in programming_dictionary:\n",
    "    print(thing)\n",
    "    print( programming_dictionary[thing])"
   ]
  },
  {
   "cell_type": "code",
   "execution_count": 13,
   "id": "3233275d",
   "metadata": {},
   "outputs": [
    {
     "name": "stdout",
     "output_type": "stream",
     "text": [
      "{'Harry': 'Exceeds Expectations', 'Ron': 'Acceptable', 'Hermione': 'Outstanding', 'Draco': 'Acceptable', 'Neville': 'Fail'}\n"
     ]
    }
   ],
   "source": [
    "#You have access to a database of student_scores in the format of a dictionary. \n",
    "#The keys in student_scores are the names of the students and the values are their exam scores.\n",
    "\n",
    "#Write a program that converts their scores to grades. By the end of your program, you should \n",
    "#have a new dictionary called student_grades that should contain student names for keys and their \n",
    "#grades for values. The final version of the student_grades dictionary will be checked.\n",
    "\n",
    "student_scores = {\n",
    "  \"Harry\": 81,\n",
    "  \"Ron\": 78,\n",
    "  \"Hermione\": 99, \n",
    "  \"Draco\": 74,\n",
    "  \"Neville\": 62,\n",
    "}\n",
    "# Don't change the code above \n",
    "\n",
    "#TODO-1: Create an empty dictionary called student_grades.\n",
    "student_grades = {}\n",
    "\n",
    "#TODO-2: Write your code below to add the grades to student_grades.\n",
    "\n",
    "for x in student_scores:\n",
    "    if student_scores[x] >= 91:\n",
    "        student_grades[x] = \"Outstanding\"\n",
    "    elif student_scores[x] >= 81:\n",
    "        student_grades[x] = \"Exceeds Expectations\"\n",
    "    elif student_scores[x] >= 71:\n",
    "        student_grades[x] = \"Acceptable\"\n",
    "    else: \n",
    "        student_grades[x] = \"Fail\"\n",
    "    \n",
    "\n",
    "# Don't change the code below \n",
    "print(student_grades)"
   ]
  },
  {
   "cell_type": "code",
   "execution_count": 14,
   "id": "c2c1f0c4",
   "metadata": {},
   "outputs": [],
   "source": [
    "#Nesting a dictionary in a dictionary\n",
    "travel_log = {\n",
    "    \"France\": {\"cities_visited\": [\"Paris\", \"Lille\", \"Dijon\"], \"total_visits\": 12},\n",
    "    \"Germany\": {\"cities_visited\":[\"Berlin\", \"Hamburg\", \"Stuttgart\"], \"total_visits\": 5},\n",
    "    }"
   ]
  },
  {
   "cell_type": "code",
   "execution_count": 16,
   "id": "f9c8f77f",
   "metadata": {},
   "outputs": [],
   "source": [
    "#Nesting a dictionary in a list\n",
    "travel_log2 = [\n",
    "    {\n",
    "        \"country\": \"France\", \n",
    "        \"cities_visited\": [\"Paris\", \"Lille\", \"Dijon\"], \n",
    "        \"total_visits\": 12\n",
    "    },\n",
    "    {\n",
    "        \"country\": \"Germany\", \n",
    "        \"cities_visited\":[\"Berlin\", \"Hamburg\", \"Stuttgart\"], \n",
    "        \"total_visits\": 5\n",
    "    },\n",
    "    ]"
   ]
  },
  {
   "cell_type": "code",
   "execution_count": 1,
   "id": "68850e43",
   "metadata": {},
   "outputs": [
    {
     "name": "stdout",
     "output_type": "stream",
     "text": [
      "[{'country': 'France', 'visits': 12, 'cities': ['Paris', 'Lille', 'Dijon']}, {'country': 'Germany', 'visits': 5, 'cities': ['Berlin', 'Hamburg', 'Stuttgart']}, {'country': 'Russia', 'visits': 2, 'cities': ['Moscow', 'Saint Petersburg']}]\n"
     ]
    }
   ],
   "source": [
    "#You are going to write a program that adds to a travel_log. You can see a travel_log \n",
    "#which is a List that contains 2 Dictionaries.\n",
    "\n",
    "#Write a function that will work with the following line of code on line 21 \n",
    "#to add the entry for Russia to the travel_log.\n",
    "\n",
    "travel_log = [\n",
    "{\n",
    "  \"country\": \"France\",\n",
    "  \"visits\": 12,\n",
    "  \"cities\": [\"Paris\", \"Lille\", \"Dijon\"]\n",
    "},\n",
    "{\n",
    "  \"country\": \"Germany\",\n",
    "  \"visits\": 5,\n",
    "  \"cities\": [\"Berlin\", \"Hamburg\", \"Stuttgart\"]\n",
    "},\n",
    "]\n",
    "# Do NOT change the code above\n",
    "\n",
    "#TODO: Write the function that will allow new countries\n",
    "#to be added to the travel_log. 👇\n",
    "\n",
    "def add_new_country(country, visits, cities):\n",
    "    new_entry = {}\n",
    "    new_entry[\"country\"] = country\n",
    "    new_entry[\"visits\"] = visits\n",
    "    new_entry[\"cities\"] = cities\n",
    "    travel_log.append(new_entry)\n",
    "\n",
    "\n",
    "\n",
    "# Do not change the code below\n",
    "add_new_country(\"Russia\", 2, [\"Moscow\", \"Saint Petersburg\"])\n",
    "print(travel_log)\n"
   ]
  },
  {
   "cell_type": "code",
   "execution_count": null,
   "id": "7c2a60ed",
   "metadata": {},
   "outputs": [],
   "source": []
  }
 ],
 "metadata": {
  "kernelspec": {
   "display_name": "PythonData",
   "language": "python",
   "name": "pythondata"
  },
  "language_info": {
   "codemirror_mode": {
    "name": "ipython",
    "version": 3
   },
   "file_extension": ".py",
   "mimetype": "text/x-python",
   "name": "python",
   "nbconvert_exporter": "python",
   "pygments_lexer": "ipython3",
   "version": "3.7.7"
  }
 },
 "nbformat": 4,
 "nbformat_minor": 5
}
