{
 "cells": [
  {
   "cell_type": "code",
   "execution_count": 1,
   "id": "84b7e229",
   "metadata": {},
   "outputs": [],
   "source": [
    "logo = '''\n",
    "                         ___________\n",
    "                         \\         /\n",
    "                          )_______(\n",
    "                          |\"\"\"\"\"\"\"|_.-._,.---------.,_.-._\n",
    "                          |       | | |               | | ''-.\n",
    "                          |       |_| |_             _| |_..-'\n",
    "                          |_______| '-' `'---------'` '-'\n",
    "                          )\"\"\"\"\"\"\"(\n",
    "                         /_________\\\\\n",
    "                       .-------------.\n",
    "                      /_______________\\\\\n",
    "'''"
   ]
  },
  {
   "cell_type": "code",
   "execution_count": 6,
   "id": "eaf2db94",
   "metadata": {},
   "outputs": [],
   "source": [
    "import os\n",
    "#HINT: You can call clear() to clear the output in the console."
   ]
  },
  {
   "cell_type": "code",
   "execution_count": 24,
   "id": "f274d04a",
   "metadata": {},
   "outputs": [
    {
     "name": "stdout",
     "output_type": "stream",
     "text": [
      "\n",
      "                         ___________\n",
      "                         \\         /\n",
      "                          )_______(\n",
      "                          |\"\"\"\"\"\"\"|_.-._,.---------.,_.-._\n",
      "                          |       | | |               | | ''-.\n",
      "                          |       |_| |_             _| |_..-'\n",
      "                          |_______| '-' `'---------'` '-'\n",
      "                          )\"\"\"\"\"\"\"(\n",
      "                         /_________\\\n",
      "                       .-------------.\n",
      "                      /_______________\\\n",
      "\n",
      "Who is bidding? tom\n",
      "What is your bid? $12\n",
      "Are there any other bidders? y or n y\n",
      "Who is bidding? nancy\n",
      "What is your bid? $34\n",
      "Are there any other bidders? y or n y\n",
      "Who is bidding? elmo\n",
      "What is your bid? $2\n",
      "Are there any other bidders? y or n n\n",
      "The winner is nancy with a bid of $34\n"
     ]
    }
   ],
   "source": [
    "print(logo)\n",
    "people_money = {}\n",
    "close_auction = False\n",
    "\n",
    "def find_winner(bidding_record):\n",
    "    highest_bid = 0\n",
    "    winner = \"\"\n",
    "    for bidder in bidding_record:\n",
    "        bid_amount = bidding_record[bidder]\n",
    "        if bid_amount > highest_bid:\n",
    "            highest_bid = bid_amount\n",
    "            winner = bidder\n",
    "    print(f\"The winner is {winner} with a bid of ${highest_bid}\")\n",
    "\n",
    "while close_auction == False:\n",
    "    bidder = input(\"Who is bidding? \")\n",
    "    bid = input(\"What is your bid? $\")\n",
    "    people_money[bidder] = int(bid)\n",
    "    keep_going = input(\"Are there any other bidders? y or n \")\n",
    "    if keep_going == \"n\":\n",
    "        close_auction = True\n",
    "        print(\"\\033[2J\\033[1;1H\")\n",
    "        find_winner(people_money)\n",
    "    else:\n",
    "        close_auction = False\n",
    "        print(\"\\033[2J\\033[1;1H\")\n",
    "\n"
   ]
  },
  {
   "cell_type": "markdown",
   "id": "df69fa44",
   "metadata": {},
   "source": []
  }
 ],
 "metadata": {
  "kernelspec": {
   "display_name": "PythonData",
   "language": "python",
   "name": "pythondata"
  },
  "language_info": {
   "codemirror_mode": {
    "name": "ipython",
    "version": 3
   },
   "file_extension": ".py",
   "mimetype": "text/x-python",
   "name": "python",
   "nbconvert_exporter": "python",
   "pygments_lexer": "ipython3",
   "version": "3.7.7"
  }
 },
 "nbformat": 4,
 "nbformat_minor": 5
}
