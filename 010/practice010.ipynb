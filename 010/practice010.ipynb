{
 "cells": [
  {
   "cell_type": "code",
   "execution_count": 7,
   "id": "9850b16d",
   "metadata": {},
   "outputs": [
    {
     "data": {
      "text/plain": [
       "6"
      ]
     },
     "execution_count": 7,
     "metadata": {},
     "output_type": "execute_result"
    }
   ],
   "source": [
    "#functions with outputs\n",
    "def my_function():\n",
    "    result = 3 * 2\n",
    "    return result\n",
    "\n",
    "my_function()"
   ]
  },
  {
   "cell_type": "code",
   "execution_count": 21,
   "id": "45b9828a",
   "metadata": {},
   "outputs": [
    {
     "name": "stdout",
     "output_type": "stream",
     "text": [
      "What is your first name? michelle\n",
      "What is your last name? demars\n",
      "Michelle Demars\n"
     ]
    }
   ],
   "source": [
    "def format_name(f_name, l_name):\n",
    "    f_name = input(\"What is your first name? \")\n",
    "    l_name = input(\"What is your last name? \")\n",
    "    for_f_name = f_name.title()\n",
    "    for_l_name = l_name.title()\n",
    "    return f'{for_f_name} {for_l_name}'\n",
    "\n",
    "formated_string = format_name(\"f_name\", \"l_name\")\n",
    "print(formated_string)"
   ]
  },
  {
   "cell_type": "code",
   "execution_count": 28,
   "id": "fb9601ba",
   "metadata": {},
   "outputs": [
    {
     "name": "stdout",
     "output_type": "stream",
     "text": [
      "Enter a year: 2022\n",
      "Enter a month: 2\n",
      "28\n"
     ]
    }
   ],
   "source": [
    "def is_leap(year):\n",
    "    if year % 4 == 0:\n",
    "        if year % 100 == 0:\n",
    "            if year % 400 == 0:\n",
    "                return True\n",
    "            else:\n",
    "                return False\n",
    "        else:\n",
    "            return True\n",
    "    else:\n",
    "        return False\n",
    "\n",
    "def days_in_month(year, month):\n",
    "    month_days = [31, 28, 31, 30, 31, 30, 31, 31, 30, 31, 30, 31]  \n",
    "    if is_leap(year) and month == 2:\n",
    "        return 29\n",
    "    else:\n",
    "        return month_days[month - 1]\n",
    "  \n",
    "#🚨 Do NOT change any of the code below \n",
    "year = int(input(\"Enter a year: \"))\n",
    "month = int(input(\"Enter a month: \"))\n",
    "days = days_in_month(year, month)\n",
    "print(days)\n"
   ]
  },
  {
   "cell_type": "code",
   "execution_count": 29,
   "id": "25b24473",
   "metadata": {},
   "outputs": [
    {
     "name": "stdout",
     "output_type": "stream",
     "text": [
      "15\n"
     ]
    }
   ],
   "source": [
    "def outer_function(a, b):\n",
    "    def inner_function(c, d):\n",
    "        return c + d\n",
    "    return inner_function(a, b)\n",
    " \n",
    "result = outer_function(5, 10)\n",
    "print(result)"
   ]
  },
  {
   "cell_type": "code",
   "execution_count": null,
   "id": "fc23709c",
   "metadata": {},
   "outputs": [],
   "source": []
  }
 ],
 "metadata": {
  "kernelspec": {
   "display_name": "PythonData",
   "language": "python",
   "name": "pythondata"
  },
  "language_info": {
   "codemirror_mode": {
    "name": "ipython",
    "version": 3
   },
   "file_extension": ".py",
   "mimetype": "text/x-python",
   "name": "python",
   "nbconvert_exporter": "python",
   "pygments_lexer": "ipython3",
   "version": "3.7.7"
  }
 },
 "nbformat": 4,
 "nbformat_minor": 5
}
