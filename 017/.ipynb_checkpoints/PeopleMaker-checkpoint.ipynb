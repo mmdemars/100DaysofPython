{
 "cells": [
  {
   "cell_type": "code",
   "execution_count": 51,
   "id": "49fe9dfa",
   "metadata": {},
   "outputs": [],
   "source": [
    "import random\n"
   ]
  },
  {
   "cell_type": "code",
   "execution_count": 52,
   "id": "50119819",
   "metadata": {},
   "outputs": [
    {
     "data": {
      "text/plain": [
       "'Hispanic'"
      ]
     },
     "execution_count": 52,
     "metadata": {},
     "output_type": "execute_result"
    }
   ],
   "source": [
    "def race():\n",
    "    selection = random.randrange(101)\n",
    "    if selection == 1:\n",
    "        return \"Indegenious\"\n",
    "    elif selection >=2 and selection <=59:\n",
    "        return \"White\"\n",
    "    elif selection >= 60 and selection <= 66:\n",
    "        return \"Black\"\n",
    "    elif selection >= 80:\n",
    "        return \"Hispanic\"\n",
    "    print(selection)\n",
    "\n",
    "race()"
   ]
  },
  {
   "cell_type": "code",
   "execution_count": 53,
   "id": "db7f5e94",
   "metadata": {},
   "outputs": [
    {
     "data": {
      "text/plain": [
       "'male'"
      ]
     },
     "execution_count": 53,
     "metadata": {},
     "output_type": "execute_result"
    }
   ],
   "source": [
    "def gender():\n",
    "    selection = random.randrange(110)\n",
    "    if selection < 48:\n",
    "        return \"female\"\n",
    "    elif selection >= 50 and selection <= 54:\n",
    "        return \"trans MtF\"\n",
    "    elif selection >= 55 and selection <= 100:\n",
    "        return \"male\"\n",
    "    elif selection >= 101 and selection <= 105:\n",
    "        return \"trans FtM\"\n",
    "    else:\n",
    "        return \"enby\"\n",
    "\n",
    "gender()"
   ]
  },
  {
   "cell_type": "code",
   "execution_count": 54,
   "id": "7702e7cf",
   "metadata": {},
   "outputs": [
    {
     "data": {
      "text/plain": [
       "'35-39'"
      ]
     },
     "execution_count": 54,
     "metadata": {},
     "output_type": "execute_result"
    }
   ],
   "source": [
    "def age():\n",
    "    selection = random.randrange(178)\n",
    "    if selection < 10:\n",
    "        return \"0-5\"\n",
    "    elif selection >= 10 and selection <= 20:\n",
    "        return \"5-9\"\n",
    "    elif selection >= 21 and selection <= 31:\n",
    "        return \"10-14\"\n",
    "    elif selection >=32 and selection <= 44:\n",
    "        return \"15-19\"\n",
    "    elif selection >= 45 and selection <= 56:\n",
    "        return \"20-24\"\n",
    "    elif selection >= 57 and selection <= 69:\n",
    "        return \"25-29\"\n",
    "    elif selection >= 70 and selection <= 81:\n",
    "        return \"30-34\"\n",
    "    elif selection >= 82 and selection <= 93:\n",
    "        return \"35-39\"\n",
    "    elif selection >= 94 and selection <= 104:\n",
    "        return \"40-45\"\n",
    "    elif selection >= 105 and selection <= 114:\n",
    "        return \"45-49\"\n",
    "    elif selection >= 115 and selection <= 125:\n",
    "        return \"50-54\"\n",
    "    elif selection >= 126 and selection <= 136:\n",
    "        return \"55-59\"\n",
    "    elif selection >= 137 and selection <= 147:\n",
    "        return \"60-64\"\n",
    "    elif selection >= 148 and selection <= 158:\n",
    "        return \"65-69\"\n",
    "    elif selection >= 159 and selection <= 165:\n",
    "        return \"70-74\"\n",
    "    elif selection >= 166 and selection <= 170:\n",
    "        return \"75-79\"\n",
    "    elif selection >= 171 and selection <= 174:\n",
    "        return \"80-84\"\n",
    "    else:\n",
    "        return \"85+\"\n",
    "\n",
    "age()"
   ]
  },
  {
   "cell_type": "code",
   "execution_count": null,
   "id": "b3380c24",
   "metadata": {},
   "outputs": [],
   "source": []
  }
 ],
 "metadata": {
  "kernelspec": {
   "display_name": "PythonData",
   "language": "python",
   "name": "pythondata"
  },
  "language_info": {
   "codemirror_mode": {
    "name": "ipython",
    "version": 3
   },
   "file_extension": ".py",
   "mimetype": "text/x-python",
   "name": "python",
   "nbconvert_exporter": "python",
   "pygments_lexer": "ipython3",
   "version": "3.7.7"
  }
 },
 "nbformat": 4,
 "nbformat_minor": 5
}
