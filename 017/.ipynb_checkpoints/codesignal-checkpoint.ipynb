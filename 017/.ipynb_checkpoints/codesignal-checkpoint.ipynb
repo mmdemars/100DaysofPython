{
 "cells": [
  {
   "cell_type": "code",
   "execution_count": 18,
   "id": "e0ef07a3",
   "metadata": {},
   "outputs": [],
   "source": [
    "def solution(inputArray):\n",
    "    solution = []\n",
    "    numbers = len(inputArray)\n",
    "    for i in range(numbers - 1):\n",
    "        maybe = inputArray[i] * inputArray [i +1]\n",
    "        solution.append(maybe)\n",
    "    solution.sort(reverse=True)\n",
    "    print(solution)\n",
    "    return solution[0]"
   ]
  },
  {
   "cell_type": "code",
   "execution_count": 19,
   "id": "b8036c69",
   "metadata": {},
   "outputs": [
    {
     "name": "stdout",
     "output_type": "stream",
     "text": [
      "[-12, -24, -92, -96]\n"
     ]
    },
    {
     "data": {
      "text/plain": [
       "-12"
      ]
     },
     "execution_count": 19,
     "metadata": {},
     "output_type": "execute_result"
    }
   ],
   "source": [
    "solution([-23, 4, -3, 8, -12])"
   ]
  },
  {
   "cell_type": "code",
   "execution_count": 51,
   "id": "f65835a8",
   "metadata": {},
   "outputs": [
    {
     "data": {
      "text/plain": [
       "25"
      ]
     },
     "execution_count": 51,
     "metadata": {},
     "output_type": "execute_result"
    }
   ],
   "source": [
    "#shapeArea\n",
    "def solution2(n):\n",
    "    x = (2 * n)-1\n",
    "    area = x\n",
    "    loops = int(area/2)\n",
    "    for i in range(loops):\n",
    "        area += ((x-2)*2)\n",
    "        x -= 2\n",
    "    return area\n",
    "\n",
    "solution2(4)"
   ]
  },
  {
   "cell_type": "code",
   "execution_count": 55,
   "id": "adc8707d",
   "metadata": {},
   "outputs": [
    {
     "data": {
      "text/plain": [
       "3"
      ]
     },
     "execution_count": 55,
     "metadata": {},
     "output_type": "execute_result"
    }
   ],
   "source": [
    "def solution6(statues):\n",
    "    spread = max(statues)-min(statues)    \n",
    "    numbers = (spread - len(statues))+1\n",
    "    return(numbers)\n",
    "    \n",
    "solution6([6, 2, 3, 8])"
   ]
  },
  {
   "cell_type": "code",
   "execution_count": 72,
   "id": "fdbc1035",
   "metadata": {},
   "outputs": [
    {
     "data": {
      "text/plain": [
       "False"
      ]
     },
     "execution_count": 72,
     "metadata": {},
     "output_type": "execute_result"
    }
   ],
   "source": [
    "def solution(sequence):\n",
    "    test = 0\n",
    "    for i in range(len(sequence)-1):\n",
    "        if sequence[i] >= sequence[i+1]:\n",
    "            test +=1\n",
    "            print(test)\n",
    "    if test > 1:\n",
    "        return False    \n",
    "    return True\n",
    "    \n",
    "solution([1, 3, 2, 1])"
   ]
  },
  {
   "cell_type": "code",
   "execution_count": 152,
   "id": "e8da8304",
   "metadata": {},
   "outputs": [
    {
     "name": "stdout",
     "output_type": "stream",
     "text": [
      "1\n",
      "[1, 2, 3, 4, 5, 3, 5, 6]\n",
      "[4]\n"
     ]
    },
    {
     "data": {
      "text/plain": [
       "True"
      ]
     },
     "execution_count": 152,
     "metadata": {},
     "output_type": "execute_result"
    }
   ],
   "source": [
    "def solution(sequence):\n",
    "    flag = 0\n",
    "    other_flag = []\n",
    "    i = 1\n",
    "    while i < len(sequence):\n",
    "        if(sequence[i] <= sequence[i - 1]):\n",
    "            flag += 1\n",
    "            other_flag.append(i-1)\n",
    "        i += 1\n",
    "    print(flag)\n",
    "    print(sequence)\n",
    "    print(other_flag)\n",
    "    if flag > 1:\n",
    "        return False    \n",
    "    return True        \n",
    "        \n",
    "        \n",
    "solution([1, 2, 3, 4, 5, 3, 5, 6])      \n",
    "        "
   ]
  },
  {
   "cell_type": "code",
   "execution_count": 151,
   "id": "7de2174e",
   "metadata": {},
   "outputs": [
    {
     "data": {
      "text/plain": [
       "True"
      ]
     },
     "execution_count": 151,
     "metadata": {},
     "output_type": "execute_result"
    }
   ],
   "source": [
    "def solution(sequence):\n",
    "    test = 0\n",
    "    for i in reversed(sequence):\n",
    "        if i > sequence[-1]:\n",
    "            test +=1\n",
    "    if test > 1:\n",
    "        return False\n",
    "    return True\n",
    "            \n",
    "        \n",
    "    \n",
    "solution([10, 1, 2, 3, 4, 5])      \n",
    "\n",
    "    "
   ]
  },
  {
   "cell_type": "code",
   "execution_count": 135,
   "id": "7e68166d",
   "metadata": {},
   "outputs": [
    {
     "name": "stdout",
     "output_type": "stream",
     "text": [
      "[10, 1, 2, 3, 4, 5]\n",
      "[10, 1, 2, 3, 4, 5]\n",
      "[10, 1, 2, 3, 4, 5]\n",
      "[10, 1, 2, 3, 4, 5]\n",
      "[10, 1, 2, 3, 4, 5]\n",
      "[10, 1, 2, 3, 4, 5]\n",
      "0\n"
     ]
    }
   ],
   "source": [
    "def solution(sequence):\n",
    "    flag = 0\n",
    "    i = 1\n",
    "    while i < len(sequence):\n",
    "        if(sequence[i] <= sequence[i - 1]) and sequence[i - 2]:\n",
    "            flag += 1\n",
    "        i += 1\n",
    "    for i in len(sequence):\n",
    "        if sequence[i] <= sequence[i]+1 and sequence[i]+2:\n",
    "            continue\n",
    "        else:\n",
    "            flag += 1\n",
    "    if flag > 1:\n",
    "        return False    \n",
    "    return True \n"
   ]
  },
  {
   "cell_type": "code",
   "execution_count": 164,
   "id": "bea0f625",
   "metadata": {},
   "outputs": [
    {
     "data": {
      "text/plain": [
       "[False, True, False, True, False]"
      ]
     },
     "execution_count": 164,
     "metadata": {},
     "output_type": "execute_result"
    }
   ],
   "source": [
    "def solution(numbers, left, right):\n",
    "    dividers = []\n",
    "    for i in range(left, right+1):\n",
    "        dividers.append(i)\n",
    "    #print(dividers)\n",
    "    boolz = []\n",
    "    \n",
    "    maxy = len(dividers)\n",
    "    for number in numbers:\n",
    "        loop = 0\n",
    "        tracker = 0\n",
    "        if number % dividers[loop] == 0:\n",
    "            tracker +=1\n",
    "        if tracker > 0:\n",
    "            boolz.append(True)\n",
    "        else:\n",
    "            boolz.append(False)\n",
    "        loop +=1\n",
    "        if loop == maxy:\n",
    "            return\n",
    "    return boolz\n",
    "\n",
    "solution([1,2,3,4,5], 2, 1000)"
   ]
  },
  {
   "cell_type": "code",
   "execution_count": 161,
   "id": "2fff8818",
   "metadata": {},
   "outputs": [
    {
     "name": "stdout",
     "output_type": "stream",
     "text": [
      "0\n"
     ]
    }
   ],
   "source": [
    "frank = 6 % 2\n",
    "print(frank)"
   ]
  },
  {
   "cell_type": "code",
   "execution_count": 168,
   "id": "ca4255ff",
   "metadata": {},
   "outputs": [
    {
     "name": "stdout",
     "output_type": "stream",
     "text": [
      "['11', '22', '33']\n"
     ]
    }
   ],
   "source": [
    "def solution(a, b, k):\n",
    "    mashup = []\n",
    "    loop = 0\n",
    "    antiloop = len(a)-1\n",
    "    for i in range(len(a)):\n",
    "        mashup.append(str(a[loop])+ str(b[antiloop]))\n",
    "        loop += 1\n",
    "        antiloop -=1\n",
    "    print(mashup)\n",
    "    \n",
    "solution([1,2,3],[3,2,1],31)"
   ]
  },
  {
   "cell_type": "code",
   "execution_count": 170,
   "id": "d58e2042",
   "metadata": {},
   "outputs": [
    {
     "data": {
      "text/plain": [
       "2"
      ]
     },
     "execution_count": 170,
     "metadata": {},
     "output_type": "execute_result"
    }
   ],
   "source": [
    "def solution(a):\n",
    "    loop = len(a)\n",
    "    score = 0\n",
    "    for i in a:\n",
    "        place = 0\n",
    "        if str(i)== (str(a[place])[::1]):\n",
    "            score +=1\n",
    "            place+=1\n",
    "        if place == score:\n",
    "            continue\n",
    "    return(score)\n",
    "        \n",
    "solution([0, 5, 50, 7, 0, 550, 500, 55, 11])"
   ]
  },
  {
   "cell_type": "code",
   "execution_count": 171,
   "id": "f1ec806e",
   "metadata": {},
   "outputs": [
    {
     "data": {
      "text/plain": [
       "[1, 16, 49]"
      ]
     },
     "execution_count": 171,
     "metadata": {},
     "output_type": "execute_result"
    }
   ],
   "source": [
    "L = [x**2 for x in range(36)]\n",
    "L[1:10:3]"
   ]
  },
  {
   "cell_type": "code",
   "execution_count": 172,
   "id": "94d182cd",
   "metadata": {},
   "outputs": [],
   "source": [
    "def solution2(sequence):\n",
    "    test = 0\n",
    "    for i in range(len(sequence)-1):\n",
    "        if sequence[i] >= sequence[i+1]:\n",
    "            test +=1\n",
    "        if i + 2 < len(sequence) and sequence[i] >= sequence[i+2]:\n",
    "            test +=1\n",
    "    print(test)\n",
    "\n",
    "    if test > 2:\n",
    "        return False\n",
    "    return True"
   ]
  },
  {
   "cell_type": "code",
   "execution_count": 173,
   "id": "c0439ca9",
   "metadata": {},
   "outputs": [],
   "source": [
    "def solution(sequence):\n",
    "    for i in range(len(sequence)):\n",
    "        allButI = sequence.copy()\n",
    "        allButI.pop(i)\n",
    "        if isStrictlyIncreasing(allButI):\n",
    "            return True\n",
    "    return False\n",
    "    \n",
    "def isStrictlyIncreasing(arr):\n",
    "    for i in range(len(arr)-1):\n",
    "        if arr[i] >= arr[i+1]:\n",
    "            return False\n",
    "    return True"
   ]
  },
  {
   "cell_type": "code",
   "execution_count": 174,
   "id": "7b4e57fc",
   "metadata": {},
   "outputs": [
    {
     "ename": "IndentationError",
     "evalue": "unexpected indent (778012522.py, line 2)",
     "output_type": "error",
     "traceback": [
      "\u001b[0;36m  File \u001b[0;32m\"/var/folders/k2/_vmbq89j1hxc6jj5_vc2km400000gn/T/ipykernel_73472/778012522.py\"\u001b[0;36m, line \u001b[0;32m2\u001b[0m\n\u001b[0;31m    all_but_i.pop(i)\u001b[0m\n\u001b[0m    ^\u001b[0m\n\u001b[0;31mIndentationError\u001b[0m\u001b[0;31m:\u001b[0m unexpected indent\n"
     ]
    }
   ],
   "source": [
    "all_but_i = sequence.copy()\n",
    "        all_but_i.pop(i)\n",
    "        all_but_i_sorted = all_but_i.copy()\n",
    "        if all_but_i_sorted != all_but_i:\n",
    "            test +=1"
   ]
  },
  {
   "cell_type": "code",
   "execution_count": 175,
   "id": "3a038a7a",
   "metadata": {},
   "outputs": [],
   "source": [
    "def solution(sequence):\n",
    "    test = 0\n",
    "    seen = set()\n",
    "    uniq = []   \n",
    "    ooo = []\n",
    "    for i in sequence:\n",
    "        if i not in seen:\n",
    "            uniq.append(i)\n",
    "            seen.add(i)\n",
    "    for i in range(len(sequence)-1):\n",
    "        if sequence[i] >= sequence[i+1]:\n",
    "            test +=1\n",
    "            ooo.append(i)\n",
    "    print(ooo)\n",
    "    if test ==1:\n",
    "        number = ooo[0]\n",
    "        alt = sequence.copy()\n",
    "        alt.pop(number)\n",
    "        for i in range(len(alt)-1):\n",
    "            if alt[i] >= alt[i+1]:\n",
    "                test +=1\n",
    "    if test > 1 or len(sequence) - len(uniq) >1:\n",
    "        return False\n",
    "    else:\n",
    "        return True"
   ]
  },
  {
   "cell_type": "code",
   "execution_count": 176,
   "id": "2bbf49ad",
   "metadata": {},
   "outputs": [
    {
     "data": {
      "text/plain": [
       "False"
      ]
     },
     "execution_count": 176,
     "metadata": {},
     "output_type": "execute_result"
    }
   ],
   "source": [
    "def solution(sequence):\n",
    "    test = 0\n",
    "    seen = set()\n",
    "    uniq = []   \n",
    "    for i in sequence:\n",
    "        if i not in seen:\n",
    "            uniq.append(i)\n",
    "            seen.add(i)\n",
    "    for i in range(len(sequence)-1):\n",
    "        if sequence[i] >= sequence[i+1]:\n",
    "            test +=1\n",
    "            if sequence[i] >= sequence[i+2]:\n",
    "                test+=1\n",
    "    \n",
    "    if test > 1 or len(sequence) - len(uniq) >1:\n",
    "        return False\n",
    "    else:\n",
    "        return True\n",
    "            \n",
    "solution([40, 50, 60, 10, 20, 30])"
   ]
  },
  {
   "cell_type": "code",
   "execution_count": null,
   "id": "39456a53",
   "metadata": {},
   "outputs": [],
   "source": [
    "def first_snag(sequence):\n",
    "    #preliminary check for an increasing sequence\n",
    "    for i in range(len(sequence)-1):\n",
    "        if sequence[i] >= sequence[i+1]:\n",
    "            return i\n",
    "    return -1\n",
    "\n",
    "def solution(sequence):\n",
    "    j = first_snag(sequence)\n",
    "    if j == -1:\n",
    "        #sequence is increasing\n",
    "        return True  \n",
    "    if first_snag(sequence[j-1:j] + sequence[j+1:]) == -1:\n",
    "        return True  # Deleting earlier element makes increasing\n",
    "    if first_snag(sequence[j:j+1] + sequence[j+2:]) == -1:\n",
    "        return True  # Deleting later element makes increasing\n",
    "    return False  # Deleting either does not make increasing\n"
   ]
  }
 ],
 "metadata": {
  "kernelspec": {
   "display_name": "PythonData",
   "language": "python",
   "name": "pythondata"
  },
  "language_info": {
   "codemirror_mode": {
    "name": "ipython",
    "version": 3
   },
   "file_extension": ".py",
   "mimetype": "text/x-python",
   "name": "python",
   "nbconvert_exporter": "python",
   "pygments_lexer": "ipython3",
   "version": "3.7.7"
  }
 },
 "nbformat": 4,
 "nbformat_minor": 5
}
