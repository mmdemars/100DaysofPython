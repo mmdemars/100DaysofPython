{
 "cells": [
  {
   "cell_type": "code",
   "execution_count": 23,
   "id": "6fc84b8b",
   "metadata": {},
   "outputs": [],
   "source": [
    "# classes get written in PascalCase\n",
    "class User:\n",
    "    pass\n",
    "    \n",
    "    \n",
    "user_1 = User()"
   ]
  },
  {
   "cell_type": "code",
   "execution_count": 24,
   "id": "e079a111",
   "metadata": {},
   "outputs": [
    {
     "name": "stdout",
     "output_type": "stream",
     "text": [
      "Bill the Pony\n"
     ]
    }
   ],
   "source": [
    "# an attribute is a varioable attachted to an object\n",
    "user_1.id = \"001\"\n",
    "user_1.username = \"Bill the Pony\"\n",
    "\n",
    "print(user_1.username)"
   ]
  },
  {
   "cell_type": "code",
   "execution_count": 25,
   "id": "cf8f2206",
   "metadata": {},
   "outputs": [],
   "source": [
    "user_2 = User()\n",
    "\n",
    "user_2.id = \"002\"\n",
    "user_2.username = \"Sam\""
   ]
  },
  {
   "cell_type": "code",
   "execution_count": 26,
   "id": "3b7a4dae",
   "metadata": {},
   "outputs": [],
   "source": [
    "# constructor - built using a special method to initialize the attributes\n",
    "\n",
    "class BetterUser:\n",
    "    def __init__(self, user_id, username):\n",
    "        self.id = user_id\n",
    "        self.username = username\n",
    "        self.followers = 0\n",
    "        self.following = 0\n",
    "        \n",
    "    def follow(self, user):\n",
    "        # a funtion inside of a class (a Method) always has to have the self parameter to function\n",
    "        user.followers += 1\n",
    "        self.following += 1"
   ]
  },
  {
   "cell_type": "code",
   "execution_count": 27,
   "id": "7960d2d5",
   "metadata": {},
   "outputs": [],
   "source": [
    "user_3 = BetterUser(\"003\", \"Frodo\")\n",
    "user_4 = BetterUser(\"004\", \"Duck\")"
   ]
  },
  {
   "cell_type": "code",
   "execution_count": 28,
   "id": "e9079336",
   "metadata": {},
   "outputs": [
    {
     "name": "stdout",
     "output_type": "stream",
     "text": [
      "Frodo\n",
      "0\n"
     ]
    }
   ],
   "source": [
    "print(user_3.username)\n",
    "print(user_3.followers)"
   ]
  },
  {
   "cell_type": "code",
   "execution_count": 29,
   "id": "83c60c6e",
   "metadata": {},
   "outputs": [
    {
     "name": "stdout",
     "output_type": "stream",
     "text": [
      "Frodo has 0 followers\n",
      "Frodo is following 1 users\n",
      "Duck has 1 followers\n",
      "Duck is following 0 users\n"
     ]
    }
   ],
   "source": [
    "user_3.follow(user_4)\n",
    "print(f\"{user_3.username} has {user_3.followers} followers\")\n",
    "print(f\"{user_3.username} is following {user_3.following} users\")\n",
    "print(f\"{user_4.username} has {user_4.followers} followers\")\n",
    "print(f\"{user_4.username} is following {user_4.following} users\")\n"
   ]
  },
  {
   "cell_type": "code",
   "execution_count": null,
   "id": "713421cc",
   "metadata": {},
   "outputs": [],
   "source": []
  }
 ],
 "metadata": {
  "kernelspec": {
   "display_name": "PythonData",
   "language": "python",
   "name": "pythondata"
  },
  "language_info": {
   "codemirror_mode": {
    "name": "ipython",
    "version": 3
   },
   "file_extension": ".py",
   "mimetype": "text/x-python",
   "name": "python",
   "nbconvert_exporter": "python",
   "pygments_lexer": "ipython3",
   "version": "3.7.7"
  }
 },
 "nbformat": 4,
 "nbformat_minor": 5
}
