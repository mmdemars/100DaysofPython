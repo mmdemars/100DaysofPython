{
 "cells": [
  {
   "cell_type": "code",
   "execution_count": 17,
   "id": "bf6d8477",
   "metadata": {},
   "outputs": [
    {
     "name": "stdout",
     "output_type": "stream",
     "text": [
      "Welcome to treasure Island. Your mission is to find the treasure.\n",
      "You enter a cave that branches in two directions. Will you go left or right? \n",
      "right\n",
      "You reach a cavern filled with water. It's high tide. Do you swim across or wait? \n",
      "swim\n",
      "You reach a chamber with two doors, one red, one blue and one gold. Which do you choose? \n",
      "gold\n",
      "You find a large chest. When you open it, it is filled with not treasure but teeth and a giant wet tongue. The mimic consumes you in a single bite.\n"
     ]
    }
   ],
   "source": [
    "print(\"Welcome to treasure Island. Your mission is to find the treasure.\")\n",
    "\n",
    "direction1 = input(\"You enter a cave that branches in two directions. Will you go left or right? \\n\")\n",
    "\n",
    "if direction1.lower() == \"right\":\n",
    "    swim = input(\"You reach a cavern filled with water. It's high tide. Do you swim across or wait? \\n\")\n",
    "    if swim.lower() == \"swim\":\n",
    "        door = input(\"You reach a chamber with two doors, one red, one blue and one gold. Which do you choose? \\n\")\n",
    "        if door.lower() == \"blue\":\n",
    "            print(\"You found the treasure, you win!\")\n",
    "        elif door.lower() == \"gold\":\n",
    "            print(\"You find a large chest. When you open it, it is filled with not treasure but teeth and a giant wet tongue. The mimic consumes you in a single bite.\")\n",
    "        else:\n",
    "            print(\"You burst through the door and find a chamber filled with bears. Game over.\")\n",
    "    else:\n",
    "        print(\"You fall asleep waiting and get eaten by a bear.\")\n",
    "else:\n",
    "    if direction1.lower() == \"left\":\n",
    "        print(\"You burst through the opening and fall into a lava pit. Game over.\")\n",
    "\n",
    "    else:\n",
    "        print(\"You run into the wall, knock yourself unconscious and get eaten by a bear.\")\n",
    "\n"
   ]
  }
 ],
 "metadata": {
  "kernelspec": {
   "display_name": "PythonData",
   "language": "python",
   "name": "pythondata"
  },
  "language_info": {
   "codemirror_mode": {
    "name": "ipython",
    "version": 3
   },
   "file_extension": ".py",
   "mimetype": "text/x-python",
   "name": "python",
   "nbconvert_exporter": "python",
   "pygments_lexer": "ipython3",
   "version": "3.7.7"
  }
 },
 "nbformat": 4,
 "nbformat_minor": 5
}
