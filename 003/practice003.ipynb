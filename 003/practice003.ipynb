{
 "cells": [
  {
   "cell_type": "code",
   "execution_count": 5,
   "id": "8cb574b0",
   "metadata": {},
   "outputs": [
    {
     "name": "stdout",
     "output_type": "stream",
     "text": [
      "Welcome to the rollercoaster!\n",
      "What is your height in cm? 90\n",
      "You are not tall enough to ride.\n"
     ]
    }
   ],
   "source": [
    "print(\"Welcome to the rollercoaster!\")\n",
    "\n",
    "height = int(input(\"What is your height in cm? \"))\n",
    "\n",
    "if height >= 120:\n",
    "    print(\"You can ride the rollercoaster.\")\n",
    "else:\n",
    "    print(\"You are not tall enough to ride.\")"
   ]
  },
  {
   "cell_type": "code",
   "execution_count": 7,
   "id": "0f2048a5",
   "metadata": {},
   "outputs": [
    {
     "name": "stdout",
     "output_type": "stream",
     "text": [
      "Which number do you want to check? 3\n",
      "This is an odd number.\n"
     ]
    }
   ],
   "source": [
    "# Write a program that works out whether if a given number is an odd or even number.\n",
    "\n",
    "number = int(input(\"Which number do you want to check? \"))\n",
    "\n",
    "if number % 2 == 0:\n",
    "    print(\"This is an even number.\")\n",
    "else:\n",
    "    print(\"This is an odd number.\")"
   ]
  },
  {
   "cell_type": "code",
   "execution_count": 10,
   "id": "993bacd8",
   "metadata": {},
   "outputs": [
    {
     "name": "stdout",
     "output_type": "stream",
     "text": [
      "Welcome to the rollercoaster!\n",
      "What is your height in cm? 120\n",
      "What is your age? 15\n",
      "You can ride the rollercoaster. Pay 15$\n"
     ]
    }
   ],
   "source": [
    "print(\"Welcome to the rollercoaster!\")\n",
    "\n",
    "height = int(input(\"What is your height in cm? \"))\n",
    "age = int(input(\"What is your age? \"))\n",
    "\n",
    "if height >= 120:\n",
    "    if age <= 12:\n",
    "        print(\"You can ride the rollercoaster. Pay 10$\")   \n",
    "    elif age >= 18:\n",
    "        print(\"You can ride the rollercoaster. Pay 20$\")\n",
    "    else:\n",
    "        print(\"You can ride the rollercoaster. Pay 15$\")\n",
    "else:\n",
    "    print(\"You are not tall enough to ride.\")"
   ]
  },
  {
   "cell_type": "code",
   "execution_count": 21,
   "id": "a368f394",
   "metadata": {},
   "outputs": [
    {
     "name": "stdout",
     "output_type": "stream",
     "text": [
      "enter your height in m: 1.75\n",
      "enter your weight in kg: 85\n",
      "Your BMI is 28, you are slightly overweight.\n"
     ]
    }
   ],
   "source": [
    "# Write a program that calculates the Body Mass Index (BMI) from a user's weight and height.\n",
    "height = float(input(\"enter your height in m: \"))\n",
    "weight = float(input(\"enter your weight in kg: \"))\n",
    "\n",
    "# BMI = weight/height(squared)\n",
    "BMI = round(weight / (height ** 2))\n",
    "\n",
    "if BMI < 18.5:\n",
    "    print(f\"Your BMI is {BMI}, you are underweight.\")\n",
    "elif BMI < 25:\n",
    "    print(f\"Your BMI is {BMI}, you have a normal weight.\")\n",
    "elif BMI < 30:\n",
    "    print(f\"Your BMI is {BMI}, you are slightly overweight.\")\n",
    "elif BMI < 35:\n",
    "    print(f\"Your BMI is {BMI}, you are obese.\")\n",
    "else:\n",
    "    print(f\"Your BMI is {BMI}, you are clinically obese.\")\n"
   ]
  },
  {
   "cell_type": "code",
   "execution_count": 54,
   "id": "2247be8a",
   "metadata": {},
   "outputs": [
    {
     "name": "stdout",
     "output_type": "stream",
     "text": [
      "Which year do you want to check? 1000\n",
      "Not leap year.\n"
     ]
    }
   ],
   "source": [
    "# Write a program that works out whether if a given year is a leap year. A normal year has 365 days, leap years have 366, \n",
    "# with an extra day in February.\n",
    "\n",
    "# This is how you work out whether if a particular year is a leap year.\n",
    "# on every year that is evenly divisible by 4 \n",
    "# **except** every year that is evenly divisible by 100 \n",
    "# **unless** the year is also evenly divisible by 400\n",
    "\n",
    "year = int(input(\"Which year do you want to check? \"))\n",
    "\n",
    "if year % 4 == 0:\n",
    "    if year % 100 != 0:\n",
    "        if year % 400 != 0:\n",
    "            print(\"Leap year.\")\n",
    "        else:\n",
    "            print(\"Not leap year.\")\n",
    "    elif year % 100 == 0:\n",
    "        print(\"Not leap year.\")\n",
    "    else:\n",
    "        print(\"Leap year.\")\n",
    "else:\n",
    "    print(\"Not leap year.\")\n"
   ]
  },
  {
   "cell_type": "code",
   "execution_count": 56,
   "id": "0c6782fb",
   "metadata": {},
   "outputs": [
    {
     "name": "stdout",
     "output_type": "stream",
     "text": [
      "Welcome to the rollercoaster!\n",
      "What is your height in cm? 120\n",
      "What is your age? 21\n",
      "Do you want a photo taken? Y or N. Y\n",
      "You can ride the roller coaster. Pay $23.\n"
     ]
    }
   ],
   "source": [
    "print(\"Welcome to the rollercoaster!\")\n",
    "\n",
    "height = int(input(\"What is your height in cm? \"))\n",
    "age = int(input(\"What is your age? \"))\n",
    "\n",
    "if height >= 120:\n",
    "    if age <= 10:\n",
    "        bill = 10   \n",
    "    elif age >= 18:\n",
    "        bill = 20\n",
    "    else:\n",
    "        bill = 15\n",
    "    \n",
    "    wants_photo = input(\"Do you want a photo taken? Y or N. \")\n",
    "    if wants_photo == \"Y\":\n",
    "        bill += 3\n",
    "    print(f\"You can ride the roller coaster. Pay ${bill}.\")\n",
    "else:\n",
    "    print(\"You are not tall enough to ride.\")"
   ]
  },
  {
   "cell_type": "code",
   "execution_count": 65,
   "id": "b39d3df2",
   "metadata": {},
   "outputs": [
    {
     "name": "stdout",
     "output_type": "stream",
     "text": [
      "Welcome to Python Pizza Deliveries!\n",
      "What size pizza do you want? S, M, or L L\n",
      "Do you want pepperoni? Y or N Y\n",
      "Do you want extra cheese? Y or N Y\n",
      "Your final bill is: $29.\n"
     ]
    }
   ],
   "source": [
    "# Congratulations, you've got a job at Python Pizza. Your first job is to build an automatic pizza order program.\n",
    "\n",
    "print(\"Welcome to Python Pizza Deliveries!\")\n",
    "size = input(\"What size pizza do you want? S, M, or L \")\n",
    "add_pepperoni = input(\"Do you want pepperoni? Y or N \")\n",
    "extra_cheese = input(\"Do you want extra cheese? Y or N \")\n",
    "# 🚨 Don't change the code above 👆\n",
    "\n",
    "if size == \"S\":\n",
    "    bill = 15\n",
    "elif size == \"M\":\n",
    "    bill = 20\n",
    "else:\n",
    "    bill = 25\n",
    "if add_pepperoni == \"Y\":\n",
    "    if size == \"S\":\n",
    "        bill += 2\n",
    "    else:\n",
    "        bill += 3\n",
    "if extra_cheese == \"Y\":\n",
    "    bill += 1\n",
    "        \n",
    "print(f\"Your final bill is: ${bill}.\")\n",
    "    "
   ]
  },
  {
   "cell_type": "code",
   "execution_count": 68,
   "id": "8a06861b",
   "metadata": {},
   "outputs": [
    {
     "name": "stdout",
     "output_type": "stream",
     "text": [
      "Welcome to the rollercoaster!\n",
      "What is your height in cm? 120\n",
      "What is your age? 50\n",
      "Everything is going to be ok. Have a free ride on us!\n",
      "Do you want a photo taken? Y or N. Y\n",
      "You can ride the roller coaster. Pay $3.\n"
     ]
    }
   ],
   "source": [
    "# midlife crisis version\n",
    "\n",
    "print(\"Welcome to the rollercoaster!\")\n",
    "\n",
    "height = int(input(\"What is your height in cm? \"))\n",
    "age = int(input(\"What is your age? \"))\n",
    "\n",
    "bill = 0\n",
    "\n",
    "if height >= 120:\n",
    "    if age <= 10:\n",
    "        bill += 10   \n",
    "    elif age <= 18:\n",
    "        bill += 20\n",
    "    elif age >= 45 and age <= 55:\n",
    "        print(\"Everything is going to be ok. Have a free ride on us!\")\n",
    "    else:\n",
    "        bill += 15\n",
    "    \n",
    "    wants_photo = input(\"Do you want a photo taken? Y or N. \")\n",
    "    if wants_photo == \"Y\":\n",
    "        bill += 3\n",
    "    print(f\"You can ride the roller coaster. Pay ${bill}.\")\n",
    "else:\n",
    "    print(\"You are not tall enough to ride.\")"
   ]
  },
  {
   "cell_type": "code",
   "execution_count": 87,
   "id": "19eb9c17",
   "metadata": {},
   "outputs": [
    {
     "name": "stdout",
     "output_type": "stream",
     "text": [
      "Welcome to the Love Calculator!\n",
      "What is your name? \n",
      "Michelle Marie DeMars\n",
      "What is their name? \n",
      "Andrew James Clarke\n",
      "Your score is 1110, you go together like coke and mentos.\n"
     ]
    }
   ],
   "source": [
    "#Build a Love Calculator\n",
    "#You are going to write a program that tests the compatibility between two people.\n",
    "#To work out the love score between two people:\n",
    "#Take both people's names and check for the number of times the letters in the word TRUE occurs. \n",
    "#Then check for the number of times the letters in the word LOVE occurs. \n",
    "\n",
    "print(\"Welcome to the Love Calculator!\")\n",
    "name1 = input(\"What is your name? \\n\")\n",
    "name2 = input(\"What is their name? \\n\")\n",
    "# Don't change the code above \n",
    "\n",
    "\n",
    "name = name1.lower() + name2.lower()\n",
    "true_score = 0\n",
    "love_score = 0\n",
    "\n",
    "t = name.count(\"t\")\n",
    "r = name.count(\"r\")\n",
    "u = name.count(\"u\")\n",
    "e = name.count(\"e\")\n",
    "l = name.count(\"l\")\n",
    "o = name.count(\"o\")\n",
    "v = name.count(\"v\")\n",
    "\n",
    "true_score = t + r + u + e\n",
    "love_score = l + o + v + e\n",
    "\n",
    "truelove_score = str(true_score) + str(love_score)\n",
    "\n",
    "if int(truelove_score) < 10 or int(truelove_score) > 90:\n",
    "    print(f\"Your score is {truelove_score}, you go together like coke and mentos.\")\n",
    "elif int(truelove_score) >40 and int(truelove_score) < 50:\n",
    "    print(f\"Your score is {truelove_score}, you are alright together.\")\n",
    "else:\n",
    "    print(f\"Your score is {truelove_score}.\")\n",
    "\n",
    "# print(name)\n",
    "# print(true_score)\n",
    "# print(love_score)\n",
    "# print(truelove_score)"
   ]
  },
  {
   "cell_type": "code",
   "execution_count": null,
   "id": "58d9bb38",
   "metadata": {},
   "outputs": [],
   "source": []
  },
  {
   "cell_type": "code",
   "execution_count": null,
   "id": "2166a9c6",
   "metadata": {},
   "outputs": [],
   "source": []
  }
 ],
 "metadata": {
  "kernelspec": {
   "display_name": "PythonData",
   "language": "python",
   "name": "pythondata"
  },
  "language_info": {
   "codemirror_mode": {
    "name": "ipython",
    "version": 3
   },
   "file_extension": ".py",
   "mimetype": "text/x-python",
   "name": "python",
   "nbconvert_exporter": "python",
   "pygments_lexer": "ipython3",
   "version": "3.7.7"
  }
 },
 "nbformat": 4,
 "nbformat_minor": 5
}
